{
 "cells": [
  {
   "cell_type": "markdown",
   "metadata": {},
   "source": [
    "# Final Project -- Part 2\n",
    "## Oliver Quarm (oquarm2)"
   ]
  },
  {
   "cell_type": "markdown",
   "metadata": {},
   "source": [
    "## Section 1: Code\n",
    "### Running instructions: \n",
    "I've tried opening this Jupyter Notebook in VSCode and it doesn't appear correctly. Run the Notebook as a regular Jupyter Notebook server (through your browser) and the widgets will display. I used Python 3.7 as my kernel for this Notebook. \n",
    "### Import neccessary packages"
   ]
  },
  {
   "cell_type": "code",
   "execution_count": 10,
   "metadata": {},
   "outputs": [],
   "source": [
    "import pandas as pd\n",
    "import numpy as np\n",
    "import panel as pn\n",
    "pn.extension('tabulator')\n",
    "import hvplot.pandas\n",
    "import holoviews as hv\n",
    "hv.extension('bokeh')"
   ]
  },
  {
   "cell_type": "markdown",
   "metadata": {},
   "source": [
    "### Read in the data"
   ]
  },
  {
   "cell_type": "code",
   "execution_count": 11,
   "metadata": {},
   "outputs": [
    {
     "data": {
      "text/html": [
       "<div>\n",
       "<style scoped>\n",
       "    .dataframe tbody tr th:only-of-type {\n",
       "        vertical-align: middle;\n",
       "    }\n",
       "\n",
       "    .dataframe tbody tr th {\n",
       "        vertical-align: top;\n",
       "    }\n",
       "\n",
       "    .dataframe thead th {\n",
       "        text-align: right;\n",
       "    }\n",
       "</style>\n",
       "<table border=\"1\" class=\"dataframe\">\n",
       "  <thead>\n",
       "    <tr style=\"text-align: right;\">\n",
       "      <th></th>\n",
       "      <th>ID</th>\n",
       "      <th>Name</th>\n",
       "      <th>Sex</th>\n",
       "      <th>Age</th>\n",
       "      <th>Height</th>\n",
       "      <th>Weight</th>\n",
       "      <th>Team</th>\n",
       "      <th>NOC</th>\n",
       "      <th>Games</th>\n",
       "      <th>Year</th>\n",
       "      <th>Season</th>\n",
       "      <th>City</th>\n",
       "      <th>Sport</th>\n",
       "      <th>Event</th>\n",
       "      <th>Medal</th>\n",
       "    </tr>\n",
       "  </thead>\n",
       "  <tbody>\n",
       "    <tr>\n",
       "      <th>40</th>\n",
       "      <td>16</td>\n",
       "      <td>Juhamatti Tapio Aaltonen</td>\n",
       "      <td>M</td>\n",
       "      <td>28.0</td>\n",
       "      <td>184.0</td>\n",
       "      <td>85.0</td>\n",
       "      <td>Finland</td>\n",
       "      <td>FIN</td>\n",
       "      <td>2014 Winter</td>\n",
       "      <td>2014</td>\n",
       "      <td>Winter</td>\n",
       "      <td>Sochi</td>\n",
       "      <td>Ice Hockey</td>\n",
       "      <td>Ice Hockey Men's Ice Hockey</td>\n",
       "      <td>Bronze</td>\n",
       "    </tr>\n",
       "    <tr>\n",
       "      <th>41</th>\n",
       "      <td>17</td>\n",
       "      <td>Paavo Johannes Aaltonen</td>\n",
       "      <td>M</td>\n",
       "      <td>28.0</td>\n",
       "      <td>175.0</td>\n",
       "      <td>64.0</td>\n",
       "      <td>Finland</td>\n",
       "      <td>FIN</td>\n",
       "      <td>1948 Summer</td>\n",
       "      <td>1948</td>\n",
       "      <td>Summer</td>\n",
       "      <td>London</td>\n",
       "      <td>Gymnastics</td>\n",
       "      <td>Gymnastics Men's Individual All-Around</td>\n",
       "      <td>Bronze</td>\n",
       "    </tr>\n",
       "    <tr>\n",
       "      <th>42</th>\n",
       "      <td>17</td>\n",
       "      <td>Paavo Johannes Aaltonen</td>\n",
       "      <td>M</td>\n",
       "      <td>28.0</td>\n",
       "      <td>175.0</td>\n",
       "      <td>64.0</td>\n",
       "      <td>Finland</td>\n",
       "      <td>FIN</td>\n",
       "      <td>1948 Summer</td>\n",
       "      <td>1948</td>\n",
       "      <td>Summer</td>\n",
       "      <td>London</td>\n",
       "      <td>Gymnastics</td>\n",
       "      <td>Gymnastics Men's Team All-Around</td>\n",
       "      <td>Gold</td>\n",
       "    </tr>\n",
       "    <tr>\n",
       "      <th>44</th>\n",
       "      <td>17</td>\n",
       "      <td>Paavo Johannes Aaltonen</td>\n",
       "      <td>M</td>\n",
       "      <td>28.0</td>\n",
       "      <td>175.0</td>\n",
       "      <td>64.0</td>\n",
       "      <td>Finland</td>\n",
       "      <td>FIN</td>\n",
       "      <td>1948 Summer</td>\n",
       "      <td>1948</td>\n",
       "      <td>Summer</td>\n",
       "      <td>London</td>\n",
       "      <td>Gymnastics</td>\n",
       "      <td>Gymnastics Men's Horse Vault</td>\n",
       "      <td>Gold</td>\n",
       "    </tr>\n",
       "    <tr>\n",
       "      <th>48</th>\n",
       "      <td>17</td>\n",
       "      <td>Paavo Johannes Aaltonen</td>\n",
       "      <td>M</td>\n",
       "      <td>28.0</td>\n",
       "      <td>175.0</td>\n",
       "      <td>64.0</td>\n",
       "      <td>Finland</td>\n",
       "      <td>FIN</td>\n",
       "      <td>1948 Summer</td>\n",
       "      <td>1948</td>\n",
       "      <td>Summer</td>\n",
       "      <td>London</td>\n",
       "      <td>Gymnastics</td>\n",
       "      <td>Gymnastics Men's Pommelled Horse</td>\n",
       "      <td>Gold</td>\n",
       "    </tr>\n",
       "  </tbody>\n",
       "</table>\n",
       "</div>"
      ],
      "text/plain": [
       "    ID                      Name Sex   Age  Height  Weight     Team  NOC  \\\n",
       "40  16  Juhamatti Tapio Aaltonen   M  28.0   184.0    85.0  Finland  FIN   \n",
       "41  17   Paavo Johannes Aaltonen   M  28.0   175.0    64.0  Finland  FIN   \n",
       "42  17   Paavo Johannes Aaltonen   M  28.0   175.0    64.0  Finland  FIN   \n",
       "44  17   Paavo Johannes Aaltonen   M  28.0   175.0    64.0  Finland  FIN   \n",
       "48  17   Paavo Johannes Aaltonen   M  28.0   175.0    64.0  Finland  FIN   \n",
       "\n",
       "          Games  Year  Season    City       Sport  \\\n",
       "40  2014 Winter  2014  Winter   Sochi  Ice Hockey   \n",
       "41  1948 Summer  1948  Summer  London  Gymnastics   \n",
       "42  1948 Summer  1948  Summer  London  Gymnastics   \n",
       "44  1948 Summer  1948  Summer  London  Gymnastics   \n",
       "48  1948 Summer  1948  Summer  London  Gymnastics   \n",
       "\n",
       "                                     Event   Medal  \n",
       "40             Ice Hockey Men's Ice Hockey  Bronze  \n",
       "41  Gymnastics Men's Individual All-Around  Bronze  \n",
       "42        Gymnastics Men's Team All-Around    Gold  \n",
       "44            Gymnastics Men's Horse Vault    Gold  \n",
       "48        Gymnastics Men's Pommelled Horse    Gold  "
      ]
     },
     "execution_count": 11,
     "metadata": {},
     "output_type": "execute_result"
    }
   ],
   "source": [
    "df = pd.read_csv(\"./athlete_events.csv\")\n",
    "# df = df[df['Medal'] == \"Gold\"]\n",
    "df = df[df['Team'].notna()]\n",
    "df = df[df['Medal'].notna()]\n",
    "df = df[df['Height'].notna()]\n",
    "df = df[df['Weight'].notna()]\n",
    "df.head()"
   ]
  },
  {
   "cell_type": "markdown",
   "metadata": {},
   "source": [
    "### Select out the columns we need for the widgets."
   ]
  },
  {
   "cell_type": "code",
   "execution_count": 12,
   "metadata": {},
   "outputs": [
    {
     "data": {
      "text/html": [
       "<div>\n",
       "<style scoped>\n",
       "    .dataframe tbody tr th:only-of-type {\n",
       "        vertical-align: middle;\n",
       "    }\n",
       "\n",
       "    .dataframe tbody tr th {\n",
       "        vertical-align: top;\n",
       "    }\n",
       "\n",
       "    .dataframe thead th {\n",
       "        text-align: right;\n",
       "    }\n",
       "</style>\n",
       "<table border=\"1\" class=\"dataframe\">\n",
       "  <thead>\n",
       "    <tr style=\"text-align: right;\">\n",
       "      <th></th>\n",
       "      <th>Sex</th>\n",
       "      <th>Team</th>\n",
       "      <th>Age</th>\n",
       "      <th>Height</th>\n",
       "      <th>Weight</th>\n",
       "      <th>Year</th>\n",
       "      <th>Medal</th>\n",
       "    </tr>\n",
       "  </thead>\n",
       "  <tbody>\n",
       "    <tr>\n",
       "      <th>23990</th>\n",
       "      <td>M</td>\n",
       "      <td>United States</td>\n",
       "      <td>20.0</td>\n",
       "      <td>188.0</td>\n",
       "      <td>81.0</td>\n",
       "      <td>1896</td>\n",
       "      <td>4</td>\n",
       "    </tr>\n",
       "    <tr>\n",
       "      <th>25325</th>\n",
       "      <td>M</td>\n",
       "      <td>United States</td>\n",
       "      <td>27.0</td>\n",
       "      <td>175.0</td>\n",
       "      <td>72.0</td>\n",
       "      <td>1896</td>\n",
       "      <td>3</td>\n",
       "    </tr>\n",
       "    <tr>\n",
       "      <th>24120</th>\n",
       "      <td>M</td>\n",
       "      <td>United States</td>\n",
       "      <td>21.0</td>\n",
       "      <td>183.0</td>\n",
       "      <td>66.0</td>\n",
       "      <td>1896</td>\n",
       "      <td>2</td>\n",
       "    </tr>\n",
       "    <tr>\n",
       "      <th>23914</th>\n",
       "      <td>M</td>\n",
       "      <td>United States</td>\n",
       "      <td>20.0</td>\n",
       "      <td>173.0</td>\n",
       "      <td>69.0</td>\n",
       "      <td>1896</td>\n",
       "      <td>1</td>\n",
       "    </tr>\n",
       "    <tr>\n",
       "      <th>14534</th>\n",
       "      <td>M</td>\n",
       "      <td>Germany</td>\n",
       "      <td>24.0</td>\n",
       "      <td>167.0</td>\n",
       "      <td>56.0</td>\n",
       "      <td>1896</td>\n",
       "      <td>2</td>\n",
       "    </tr>\n",
       "  </tbody>\n",
       "</table>\n",
       "</div>"
      ],
      "text/plain": [
       "      Sex           Team   Age  Height  Weight  Year  Medal\n",
       "23990   M  United States  20.0   188.0    81.0  1896      4\n",
       "25325   M  United States  27.0   175.0    72.0  1896      3\n",
       "24120   M  United States  21.0   183.0    66.0  1896      2\n",
       "23914   M  United States  20.0   173.0    69.0  1896      1\n",
       "14534   M        Germany  24.0   167.0    56.0  1896      2"
      ]
     },
     "execution_count": 12,
     "metadata": {},
     "output_type": "execute_result"
    }
   ],
   "source": [
    "(\n",
    "    df\n",
    "    .groupby(['Sex', 'Team', 'Age', 'Height', 'Weight', 'Year'])['Medal'].count()\n",
    "    .to_frame()\n",
    "    .reset_index()\n",
    "    .sort_values(by='Year')\n",
    ").head(5)"
   ]
  },
  {
   "cell_type": "markdown",
   "metadata": {},
   "source": [
    "### Create widget set #1"
   ]
  },
  {
   "cell_type": "code",
   "execution_count": 13,
   "metadata": {},
   "outputs": [],
   "source": [
    "idf = df.interactive()"
   ]
  },
  {
   "cell_type": "code",
   "execution_count": 14,
   "metadata": {},
   "outputs": [],
   "source": [
    "year = pn.widgets.IntSlider(name='Year', start=1896, end=2016, step=4, bar_color='#bbc2f0')\n",
    "sex_widget = pn.widgets.ToggleGroup(\n",
    "    name='Sex',\n",
    "    options=['M', 'F'], \n",
    "    value=['M', 'F'],\n",
    "    button_type='primary')\n",
    "yaxis = pn.widgets.RadioButtonGroup(\n",
    "    name='Y axis', \n",
    "    options=['Medal'],\n",
    "    button_type='primary'\n",
    ")"
   ]
  },
  {
   "cell_type": "code",
   "execution_count": 15,
   "metadata": {},
   "outputs": [
    {
     "data": {},
     "metadata": {},
     "output_type": "display_data"
    },
    {
     "data": {
      "application/vnd.holoviews_exec.v0+json": "",
      "text/html": [
       "<div id='1213'>\n",
       "  <div class=\"bk-root\" id=\"0ddafe58-2a3e-4611-ae68-faa77f99eb83\" data-root-id=\"1213\"></div>\n",
       "</div>\n",
       "<script type=\"application/javascript\">(function(root) {\n",
       "  function embed_document(root) {\n",
       "    var docs_json = {\"395bea22-ec3a-4361-a5e7-171b921309bf\":{\"defs\":[{\"extends\":null,\"module\":null,\"name\":\"ReactiveHTML1\",\"overrides\":[],\"properties\":[]},{\"extends\":null,\"module\":null,\"name\":\"FlexBox1\",\"overrides\":[],\"properties\":[{\"default\":\"flex-start\",\"kind\":null,\"name\":\"align_content\"},{\"default\":\"flex-start\",\"kind\":null,\"name\":\"align_items\"},{\"default\":\"row\",\"kind\":null,\"name\":\"flex_direction\"},{\"default\":\"wrap\",\"kind\":null,\"name\":\"flex_wrap\"},{\"default\":\"flex-start\",\"kind\":null,\"name\":\"justify_content\"}]},{\"extends\":null,\"module\":null,\"name\":\"GridStack1\",\"overrides\":[],\"properties\":[{\"default\":\"warn\",\"kind\":null,\"name\":\"mode\"},{\"default\":null,\"kind\":null,\"name\":\"ncols\"},{\"default\":null,\"kind\":null,\"name\":\"nrows\"},{\"default\":true,\"kind\":null,\"name\":\"allow_resize\"},{\"default\":true,\"kind\":null,\"name\":\"allow_drag\"},{\"default\":[],\"kind\":null,\"name\":\"state\"}]},{\"extends\":null,\"module\":null,\"name\":\"click1\",\"overrides\":[],\"properties\":[{\"default\":\"\",\"kind\":null,\"name\":\"terminal_output\"},{\"default\":\"\",\"kind\":null,\"name\":\"debug_name\"},{\"default\":0,\"kind\":null,\"name\":\"clears\"}]},{\"extends\":null,\"module\":null,\"name\":\"NotificationAreaBase1\",\"overrides\":[],\"properties\":[{\"default\":\"bottom-right\",\"kind\":null,\"name\":\"position\"},{\"default\":0,\"kind\":null,\"name\":\"_clear\"}]},{\"extends\":null,\"module\":null,\"name\":\"NotificationArea1\",\"overrides\":[],\"properties\":[{\"default\":[],\"kind\":null,\"name\":\"notifications\"},{\"default\":\"bottom-right\",\"kind\":null,\"name\":\"position\"},{\"default\":0,\"kind\":null,\"name\":\"_clear\"},{\"default\":[{\"background\":\"#ffc107\",\"icon\":{\"className\":\"fas fa-exclamation-triangle\",\"color\":\"white\",\"tagName\":\"i\"},\"type\":\"warning\"},{\"background\":\"#007bff\",\"icon\":{\"className\":\"fas fa-info-circle\",\"color\":\"white\",\"tagName\":\"i\"},\"type\":\"info\"}],\"kind\":null,\"name\":\"types\"}]},{\"extends\":null,\"module\":null,\"name\":\"Notification\",\"overrides\":[],\"properties\":[{\"default\":null,\"kind\":null,\"name\":\"background\"},{\"default\":3000,\"kind\":null,\"name\":\"duration\"},{\"default\":null,\"kind\":null,\"name\":\"icon\"},{\"default\":\"\",\"kind\":null,\"name\":\"message\"},{\"default\":null,\"kind\":null,\"name\":\"notification_type\"},{\"default\":false,\"kind\":null,\"name\":\"_destroyed\"}]},{\"extends\":null,\"module\":null,\"name\":\"TemplateActions1\",\"overrides\":[],\"properties\":[{\"default\":0,\"kind\":null,\"name\":\"open_modal\"},{\"default\":0,\"kind\":null,\"name\":\"close_modal\"}]},{\"extends\":null,\"module\":null,\"name\":\"MaterialTemplateActions1\",\"overrides\":[],\"properties\":[{\"default\":0,\"kind\":null,\"name\":\"open_modal\"},{\"default\":0,\"kind\":null,\"name\":\"close_modal\"}]}],\"roots\":{\"references\":[{\"attributes\":{\"children\":[{\"id\":\"1215\"},{\"id\":\"1221\"}],\"margin\":[0,0,0,0],\"name\":\"Column03732\"},\"id\":\"1214\",\"type\":\"Column\"},{\"attributes\":{\"margin\":[5,5,5,5],\"name\":\"HSpacer03730\",\"sizing_mode\":\"stretch_width\"},\"id\":\"1220\",\"type\":\"Spacer\"},{\"attributes\":{\"margin\":[5,5,5,5],\"name\":\"DataFrame03728\",\"text\":\"&lt;table border=&quot;0&quot; class=&quot;dataframe panel-df&quot;&gt;\\n  &lt;thead&gt;\\n    &lt;tr style=&quot;text-align: right;&quot;&gt;\\n      &lt;th&gt;&lt;/th&gt;\\n      &lt;th&gt;Team&lt;/th&gt;\\n      &lt;th&gt;Medal&lt;/th&gt;\\n    &lt;/tr&gt;\\n  &lt;/thead&gt;\\n  &lt;tbody&gt;\\n    &lt;tr&gt;\\n      &lt;th&gt;0&lt;/th&gt;\\n      &lt;td&gt;Germany&lt;/td&gt;\\n      &lt;td&gt;6&lt;/td&gt;\\n    &lt;/tr&gt;\\n    &lt;tr&gt;\\n      &lt;th&gt;1&lt;/th&gt;\\n      &lt;td&gt;Great Britain&lt;/td&gt;\\n      &lt;td&gt;2&lt;/td&gt;\\n    &lt;/tr&gt;\\n    &lt;tr&gt;\\n      &lt;th&gt;2&lt;/th&gt;\\n      &lt;td&gt;United States&lt;/td&gt;\\n      &lt;td&gt;12&lt;/td&gt;\\n    &lt;/tr&gt;\\n  &lt;/tbody&gt;\\n&lt;/table&gt;\"},\"id\":\"1222\",\"type\":\"panel.models.markup.HTML\"},{\"attributes\":{\"active\":[0,1],\"button_type\":\"primary\",\"labels\":[\"M\",\"F\"],\"margin\":[5,10,5,10]},\"id\":\"1218\",\"type\":\"CheckboxButtonGroup\"},{\"attributes\":{\"children\":[{\"id\":\"1214\"}],\"margin\":[0,0,0,0],\"name\":\"Row03733\"},\"id\":\"1213\",\"type\":\"Row\"},{\"attributes\":{\"children\":[{\"id\":\"1222\"}],\"margin\":[0,0,0,0],\"name\":\"Row03727\"},\"id\":\"1221\",\"type\":\"Row\"},{\"attributes\":{\"client_comm_id\":\"1d2b4d0211d94993ad024ac0815d1f51\",\"comm_id\":\"1ad89a2e6fdf4ea6854fb65d6355e7f5\",\"plot_id\":\"1213\"},\"id\":\"1223\",\"type\":\"panel.models.comm_manager.CommManager\"},{\"attributes\":{\"bar_color\":\"#bbc2f0\",\"end\":2016,\"margin\":[5,10,5,10],\"start\":1896,\"step\":4,\"title\":\"Year\",\"value\":1896},\"id\":\"1217\",\"type\":\"Slider\"},{\"attributes\":{\"active\":0,\"button_type\":\"primary\",\"labels\":[\"Medal\"],\"margin\":[5,10,5,10]},\"id\":\"1219\",\"type\":\"RadioButtonGroup\"},{\"attributes\":{\"children\":[{\"id\":\"1217\"},{\"id\":\"1218\"},{\"id\":\"1219\"}],\"margin\":[0,0,0,0],\"name\":\"Column03722\"},\"id\":\"1216\",\"type\":\"Column\"},{\"attributes\":{\"children\":[{\"id\":\"1216\"},{\"id\":\"1220\"}],\"margin\":[0,0,0,0],\"name\":\"Row03731\"},\"id\":\"1215\",\"type\":\"Row\"}],\"root_ids\":[\"1213\",\"1223\"]},\"title\":\"Bokeh Application\",\"version\":\"2.4.3\"}};\n",
       "    var render_items = [{\"docid\":\"395bea22-ec3a-4361-a5e7-171b921309bf\",\"root_ids\":[\"1213\"],\"roots\":{\"1213\":\"0ddafe58-2a3e-4611-ae68-faa77f99eb83\"}}];\n",
       "    root.Bokeh.embed.embed_items_notebook(docs_json, render_items);\n",
       "    for (const render_item of render_items) {\n",
       "      for (const root_id of render_item.root_ids) {\n",
       "\tconst id_el = document.getElementById(root_id)\n",
       "\tif (id_el.children.length && (id_el.children[0].className === 'bk-root')) {\n",
       "\t  const root_el = id_el.children[0]\n",
       "\t  root_el.id = root_el.id + '-rendered'\n",
       "\t}\n",
       "      }\n",
       "    }\n",
       "  }\n",
       "  if (root.Bokeh !== undefined && root.Bokeh.Panel !== undefined && ( root['Tabulator'] !== undefined) && ( root['Tabulator'] !== undefined)) {\n",
       "    embed_document(root);\n",
       "  } else {\n",
       "    var attempts = 0;\n",
       "    var timer = setInterval(function(root) {\n",
       "      if (root.Bokeh !== undefined && root.Bokeh.Panel !== undefined && (root['Tabulator'] !== undefined) && (root['Tabulator'] !== undefined)) {\n",
       "        clearInterval(timer);\n",
       "        embed_document(root);\n",
       "      } else if (document.readyState == \"complete\") {\n",
       "        attempts++;\n",
       "        if (attempts > 200) {\n",
       "          clearInterval(timer);\n",
       "          console.log(\"Bokeh: ERROR: Unable to run BokehJS code because BokehJS library is missing\");\n",
       "        }\n",
       "      }\n",
       "    }, 25, root)\n",
       "  }\n",
       "})(window);</script>"
      ],
      "text/plain": [
       "<hvplot.interactive.Interactive at 0x1174c4b90>"
      ]
     },
     "execution_count": 15,
     "metadata": {
      "application/vnd.holoviews_exec.v0+json": {
       "id": "1213"
      }
     },
     "output_type": "execute_result"
    }
   ],
   "source": [
    "ipipeline = (\n",
    "    idf[\n",
    "        (idf.Year == year) & \n",
    "        (idf.Sex.isin(sex_widget))\n",
    "    ]\n",
    "    .groupby(['Team'])[yaxis].count()\n",
    "    .to_frame()\n",
    "    .reset_index()\n",
    "    .sort_values(by='Team')  \n",
    "    .reset_index(drop=True)\n",
    ")\n",
    "ipipeline.head(10) # Change this number to determine how many teams you want to display at a time."
   ]
  },
  {
   "cell_type": "markdown",
   "metadata": {},
   "source": [
    "### Explanation\n",
    "The above is the `ipipeline` first visualized. By default, both genders are preselected. Click a gender button to remove them (or later add them) to/from the count. Below the data/widget is piped to a table for better viewing. You don't need to click the buttons in the below table -- click the buttons above and the output below will also change accordingly! The beauty of piping to an `itable` as per below is that you can click the sort columns arrows to sort each column (that's the main benefit of piping the data/widgets to a table below)."
   ]
  },
  {
   "cell_type": "code",
   "execution_count": 16,
   "metadata": {},
   "outputs": [
    {
     "data": {},
     "metadata": {},
     "output_type": "display_data"
    },
    {
     "data": {
      "application/vnd.holoviews_exec.v0+json": "",
      "text/html": [
       "<div id='1224'>\n",
       "  <div class=\"bk-root\" id=\"3ea1d477-4105-4218-930b-bd1bc6bd78f9\" data-root-id=\"1224\"></div>\n",
       "</div>\n",
       "<script type=\"application/javascript\">(function(root) {\n",
       "  function embed_document(root) {\n",
       "    var docs_json = {\"c6c24ace-f203-4b11-9d18-8efb00479869\":{\"defs\":[{\"extends\":null,\"module\":null,\"name\":\"ReactiveHTML1\",\"overrides\":[],\"properties\":[]},{\"extends\":null,\"module\":null,\"name\":\"FlexBox1\",\"overrides\":[],\"properties\":[{\"default\":\"flex-start\",\"kind\":null,\"name\":\"align_content\"},{\"default\":\"flex-start\",\"kind\":null,\"name\":\"align_items\"},{\"default\":\"row\",\"kind\":null,\"name\":\"flex_direction\"},{\"default\":\"wrap\",\"kind\":null,\"name\":\"flex_wrap\"},{\"default\":\"flex-start\",\"kind\":null,\"name\":\"justify_content\"}]},{\"extends\":null,\"module\":null,\"name\":\"GridStack1\",\"overrides\":[],\"properties\":[{\"default\":\"warn\",\"kind\":null,\"name\":\"mode\"},{\"default\":null,\"kind\":null,\"name\":\"ncols\"},{\"default\":null,\"kind\":null,\"name\":\"nrows\"},{\"default\":true,\"kind\":null,\"name\":\"allow_resize\"},{\"default\":true,\"kind\":null,\"name\":\"allow_drag\"},{\"default\":[],\"kind\":null,\"name\":\"state\"}]},{\"extends\":null,\"module\":null,\"name\":\"click1\",\"overrides\":[],\"properties\":[{\"default\":\"\",\"kind\":null,\"name\":\"terminal_output\"},{\"default\":\"\",\"kind\":null,\"name\":\"debug_name\"},{\"default\":0,\"kind\":null,\"name\":\"clears\"}]},{\"extends\":null,\"module\":null,\"name\":\"NotificationAreaBase1\",\"overrides\":[],\"properties\":[{\"default\":\"bottom-right\",\"kind\":null,\"name\":\"position\"},{\"default\":0,\"kind\":null,\"name\":\"_clear\"}]},{\"extends\":null,\"module\":null,\"name\":\"NotificationArea1\",\"overrides\":[],\"properties\":[{\"default\":[],\"kind\":null,\"name\":\"notifications\"},{\"default\":\"bottom-right\",\"kind\":null,\"name\":\"position\"},{\"default\":0,\"kind\":null,\"name\":\"_clear\"},{\"default\":[{\"background\":\"#ffc107\",\"icon\":{\"className\":\"fas fa-exclamation-triangle\",\"color\":\"white\",\"tagName\":\"i\"},\"type\":\"warning\"},{\"background\":\"#007bff\",\"icon\":{\"className\":\"fas fa-info-circle\",\"color\":\"white\",\"tagName\":\"i\"},\"type\":\"info\"}],\"kind\":null,\"name\":\"types\"}]},{\"extends\":null,\"module\":null,\"name\":\"Notification\",\"overrides\":[],\"properties\":[{\"default\":null,\"kind\":null,\"name\":\"background\"},{\"default\":3000,\"kind\":null,\"name\":\"duration\"},{\"default\":null,\"kind\":null,\"name\":\"icon\"},{\"default\":\"\",\"kind\":null,\"name\":\"message\"},{\"default\":null,\"kind\":null,\"name\":\"notification_type\"},{\"default\":false,\"kind\":null,\"name\":\"_destroyed\"}]},{\"extends\":null,\"module\":null,\"name\":\"TemplateActions1\",\"overrides\":[],\"properties\":[{\"default\":0,\"kind\":null,\"name\":\"open_modal\"},{\"default\":0,\"kind\":null,\"name\":\"close_modal\"}]},{\"extends\":null,\"module\":null,\"name\":\"MaterialTemplateActions1\",\"overrides\":[],\"properties\":[{\"default\":0,\"kind\":null,\"name\":\"open_modal\"},{\"default\":0,\"kind\":null,\"name\":\"close_modal\"}]}],\"roots\":{\"references\":[{\"attributes\":{\"bar_color\":\"#bbc2f0\",\"end\":2016,\"margin\":[5,10,5,10],\"start\":1896,\"step\":4,\"title\":\"Year\",\"value\":1896},\"id\":\"1228\",\"type\":\"Slider\"},{\"attributes\":{\"children\":[{\"id\":\"1227\"},{\"id\":\"1231\"}],\"margin\":[0,0,0,0],\"name\":\"Row03810\"},\"id\":\"1226\",\"type\":\"Row\"},{\"attributes\":{\"editor\":{\"id\":\"1247\"},\"field\":\"Medal\",\"formatter\":{\"id\":\"1246\"},\"title\":\"Medal\",\"width\":0},\"id\":\"1248\",\"type\":\"TableColumn\"},{\"attributes\":{\"text_align\":\"right\"},\"id\":\"1246\",\"type\":\"NumberFormatter\"},{\"attributes\":{\"active\":0,\"button_type\":\"primary\",\"labels\":[\"Medal\"],\"margin\":[5,10,5,10]},\"id\":\"1230\",\"type\":\"RadioButtonGroup\"},{\"attributes\":{},\"id\":\"1241\",\"type\":\"StringFormatter\"},{\"attributes\":{\"indices\":[]},\"id\":\"1234\",\"type\":\"Selection\"},{\"attributes\":{\"data\":{\"Medal\":[6,2,12],\"Team\":[\"Germany\",\"Great Britain\",\"United States\"],\"index\":[0,1,2]},\"selected\":{\"id\":\"1234\"},\"selection_policy\":{\"id\":\"1253\"}},\"id\":\"1233\",\"type\":\"ColumnDataSource\"},{\"attributes\":{},\"id\":\"1237\",\"type\":\"CellEditor\"},{\"attributes\":{\"children\":[{\"id\":\"1226\"},{\"id\":\"1232\"}],\"margin\":[0,0,0,0],\"name\":\"Column03811\"},\"id\":\"1225\",\"type\":\"Column\"},{\"attributes\":{\"editor\":{\"id\":\"1242\"},\"field\":\"Team\",\"formatter\":{\"id\":\"1241\"},\"title\":\"Team\",\"width\":0},\"id\":\"1243\",\"type\":\"TableColumn\"},{\"attributes\":{\"children\":[{\"id\":\"1251\"}],\"margin\":[0,0,0,0],\"name\":\"Row03808\"},\"id\":\"1232\",\"type\":\"Row\"},{\"attributes\":{\"text_align\":\"left\"},\"id\":\"1235\",\"type\":\"NumberFormatter\"},{\"attributes\":{\"margin\":[5,5,5,5],\"name\":\"HSpacer03809\",\"sizing_mode\":\"stretch_width\"},\"id\":\"1231\",\"type\":\"Spacer\"},{\"attributes\":{\"active\":[0,1],\"button_type\":\"primary\",\"labels\":[\"M\",\"F\"],\"margin\":[5,10,5,10]},\"id\":\"1229\",\"type\":\"CheckboxButtonGroup\"},{\"attributes\":{\"columns\":[{\"id\":\"1238\"},{\"id\":\"1243\"},{\"id\":\"1248\"}],\"configuration\":{\"columns\":[{\"field\":\"index\",\"sorter\":\"number\"},{\"field\":\"Team\"},{\"field\":\"Medal\",\"sorter\":\"number\"}],\"dataTree\":false,\"selectable\":true},\"indexes\":[\"index\"],\"layout\":\"fit_data_table\",\"margin\":[5,10,5,10],\"max_page\":1,\"name\":\"\",\"page\":1,\"page_size\":10,\"pagination\":\"remote\",\"select_mode\":true,\"selectable_rows\":null,\"source\":{\"id\":\"1233\"},\"styles\":{\"data\":{},\"id\":\"ce5210fdf3154b2b9f27d8bb5df7a7f4\"},\"subscribed_events\":[\"cell-click\",\"table-edit\"],\"theme_url\":\"https://cdn.jsdelivr.net/npm/@holoviz/panel@0.14.4/dist/bundled/datatabulator/tabulator-tables@5.3.2/dist/css/\"},\"id\":\"1251\",\"type\":\"panel.models.tabulator.DataTabulator\"},{\"attributes\":{\"children\":[{\"id\":\"1228\"},{\"id\":\"1229\"},{\"id\":\"1230\"}],\"margin\":[0,0,0,0],\"name\":\"Column03803\"},\"id\":\"1227\",\"type\":\"Column\"},{\"attributes\":{},\"id\":\"1242\",\"type\":\"StringEditor\"},{\"attributes\":{\"children\":[{\"id\":\"1225\"}],\"margin\":[0,0,0,0],\"name\":\"Row03812\"},\"id\":\"1224\",\"type\":\"Row\"},{\"attributes\":{},\"id\":\"1247\",\"type\":\"IntEditor\"},{\"attributes\":{\"editor\":{\"id\":\"1237\"},\"field\":\"index\",\"formatter\":{\"id\":\"1235\"},\"title\":\"index\",\"width\":0},\"id\":\"1238\",\"type\":\"TableColumn\"},{\"attributes\":{},\"id\":\"1253\",\"type\":\"UnionRenderers\"},{\"attributes\":{\"client_comm_id\":\"b4018f8e4dbd457ea6d69a177f066904\",\"comm_id\":\"b700aa4be62c4bba8b8e5a80305c44be\",\"plot_id\":\"1224\"},\"id\":\"1259\",\"type\":\"panel.models.comm_manager.CommManager\"}],\"root_ids\":[\"1224\",\"1259\"]},\"title\":\"Bokeh Application\",\"version\":\"2.4.3\"}};\n",
       "    var render_items = [{\"docid\":\"c6c24ace-f203-4b11-9d18-8efb00479869\",\"root_ids\":[\"1224\"],\"roots\":{\"1224\":\"3ea1d477-4105-4218-930b-bd1bc6bd78f9\"}}];\n",
       "    root.Bokeh.embed.embed_items_notebook(docs_json, render_items);\n",
       "    for (const render_item of render_items) {\n",
       "      for (const root_id of render_item.root_ids) {\n",
       "\tconst id_el = document.getElementById(root_id)\n",
       "\tif (id_el.children.length && (id_el.children[0].className === 'bk-root')) {\n",
       "\t  const root_el = id_el.children[0]\n",
       "\t  root_el.id = root_el.id + '-rendered'\n",
       "\t}\n",
       "      }\n",
       "    }\n",
       "  }\n",
       "  if (root.Bokeh !== undefined && root.Bokeh.Panel !== undefined && ( root['Tabulator'] !== undefined) && ( root['Tabulator'] !== undefined)) {\n",
       "    embed_document(root);\n",
       "  } else {\n",
       "    var attempts = 0;\n",
       "    var timer = setInterval(function(root) {\n",
       "      if (root.Bokeh !== undefined && root.Bokeh.Panel !== undefined && (root['Tabulator'] !== undefined) && (root['Tabulator'] !== undefined)) {\n",
       "        clearInterval(timer);\n",
       "        embed_document(root);\n",
       "      } else if (document.readyState == \"complete\") {\n",
       "        attempts++;\n",
       "        if (attempts > 200) {\n",
       "          clearInterval(timer);\n",
       "          console.log(\"Bokeh: ERROR: Unable to run BokehJS code because BokehJS library is missing\");\n",
       "        }\n",
       "      }\n",
       "    }, 25, root)\n",
       "  }\n",
       "})(window);</script>"
      ],
      "text/plain": [
       "<hvplot.interactive.Interactive at 0x11b5d2890>"
      ]
     },
     "execution_count": 16,
     "metadata": {
      "application/vnd.holoviews_exec.v0+json": {
       "id": "1224"
      }
     },
     "output_type": "execute_result"
    }
   ],
   "source": [
    "itable = ipipeline.pipe(pn.widgets.Tabulator, pagination='remote', page_size=10)\n",
    "itable"
   ]
  },
  {
   "cell_type": "markdown",
   "metadata": {},
   "source": [
    "### Create widget set #2\n",
    "This widget set allows you to explore the average weight and mean for each Olympic team. And this is per year -- adjust the slider to see how this changes over time. You'll notice for the earlier years (e.g. 1896) there are only a limited number of teams displayed as the height & weight info wasn't known for many atheletes during these early times. Click between the `Height` and `Weight` buttons to view each independently."
   ]
  },
  {
   "cell_type": "code",
   "execution_count": 17,
   "metadata": {},
   "outputs": [
    {
     "data": {},
     "metadata": {},
     "output_type": "display_data"
    },
    {
     "data": {
      "application/vnd.holoviews_exec.v0+json": "",
      "text/html": [
       "<div id='1270'>\n",
       "  <div class=\"bk-root\" id=\"740ac271-6bec-496b-b179-71b42fc11535\" data-root-id=\"1270\"></div>\n",
       "</div>\n",
       "<script type=\"application/javascript\">(function(root) {\n",
       "  function embed_document(root) {\n",
       "    var docs_json = {\"dec034aa-5393-43df-bbfa-dca7eeacfdee\":{\"defs\":[{\"extends\":null,\"module\":null,\"name\":\"ReactiveHTML1\",\"overrides\":[],\"properties\":[]},{\"extends\":null,\"module\":null,\"name\":\"FlexBox1\",\"overrides\":[],\"properties\":[{\"default\":\"flex-start\",\"kind\":null,\"name\":\"align_content\"},{\"default\":\"flex-start\",\"kind\":null,\"name\":\"align_items\"},{\"default\":\"row\",\"kind\":null,\"name\":\"flex_direction\"},{\"default\":\"wrap\",\"kind\":null,\"name\":\"flex_wrap\"},{\"default\":\"flex-start\",\"kind\":null,\"name\":\"justify_content\"}]},{\"extends\":null,\"module\":null,\"name\":\"GridStack1\",\"overrides\":[],\"properties\":[{\"default\":\"warn\",\"kind\":null,\"name\":\"mode\"},{\"default\":null,\"kind\":null,\"name\":\"ncols\"},{\"default\":null,\"kind\":null,\"name\":\"nrows\"},{\"default\":true,\"kind\":null,\"name\":\"allow_resize\"},{\"default\":true,\"kind\":null,\"name\":\"allow_drag\"},{\"default\":[],\"kind\":null,\"name\":\"state\"}]},{\"extends\":null,\"module\":null,\"name\":\"click1\",\"overrides\":[],\"properties\":[{\"default\":\"\",\"kind\":null,\"name\":\"terminal_output\"},{\"default\":\"\",\"kind\":null,\"name\":\"debug_name\"},{\"default\":0,\"kind\":null,\"name\":\"clears\"}]},{\"extends\":null,\"module\":null,\"name\":\"NotificationAreaBase1\",\"overrides\":[],\"properties\":[{\"default\":\"bottom-right\",\"kind\":null,\"name\":\"position\"},{\"default\":0,\"kind\":null,\"name\":\"_clear\"}]},{\"extends\":null,\"module\":null,\"name\":\"NotificationArea1\",\"overrides\":[],\"properties\":[{\"default\":[],\"kind\":null,\"name\":\"notifications\"},{\"default\":\"bottom-right\",\"kind\":null,\"name\":\"position\"},{\"default\":0,\"kind\":null,\"name\":\"_clear\"},{\"default\":[{\"background\":\"#ffc107\",\"icon\":{\"className\":\"fas fa-exclamation-triangle\",\"color\":\"white\",\"tagName\":\"i\"},\"type\":\"warning\"},{\"background\":\"#007bff\",\"icon\":{\"className\":\"fas fa-info-circle\",\"color\":\"white\",\"tagName\":\"i\"},\"type\":\"info\"}],\"kind\":null,\"name\":\"types\"}]},{\"extends\":null,\"module\":null,\"name\":\"Notification\",\"overrides\":[],\"properties\":[{\"default\":null,\"kind\":null,\"name\":\"background\"},{\"default\":3000,\"kind\":null,\"name\":\"duration\"},{\"default\":null,\"kind\":null,\"name\":\"icon\"},{\"default\":\"\",\"kind\":null,\"name\":\"message\"},{\"default\":null,\"kind\":null,\"name\":\"notification_type\"},{\"default\":false,\"kind\":null,\"name\":\"_destroyed\"}]},{\"extends\":null,\"module\":null,\"name\":\"TemplateActions1\",\"overrides\":[],\"properties\":[{\"default\":0,\"kind\":null,\"name\":\"open_modal\"},{\"default\":0,\"kind\":null,\"name\":\"close_modal\"}]},{\"extends\":null,\"module\":null,\"name\":\"MaterialTemplateActions1\",\"overrides\":[],\"properties\":[{\"default\":0,\"kind\":null,\"name\":\"open_modal\"},{\"default\":0,\"kind\":null,\"name\":\"close_modal\"}]}],\"roots\":{\"references\":[{\"attributes\":{\"margin\":[5,5,5,5],\"name\":\"DataFrame04482\",\"text\":\"&lt;table border=&quot;0&quot; class=&quot;dataframe panel-df&quot;&gt;\\n  &lt;thead&gt;\\n    &lt;tr style=&quot;text-align: right;&quot;&gt;\\n      &lt;th&gt;&lt;/th&gt;\\n      &lt;th&gt;Height&lt;/th&gt;\\n    &lt;/tr&gt;\\n    &lt;tr&gt;\\n      &lt;th&gt;Team&lt;/th&gt;\\n      &lt;th&gt;&lt;/th&gt;\\n    &lt;/tr&gt;\\n  &lt;/thead&gt;\\n  &lt;tbody&gt;\\n    &lt;tr&gt;\\n      &lt;th&gt;Germany&lt;/th&gt;\\n      &lt;td&gt;161.666667&lt;/td&gt;\\n    &lt;/tr&gt;\\n    &lt;tr&gt;\\n      &lt;th&gt;Great Britain&lt;/th&gt;\\n      &lt;td&gt;188.000000&lt;/td&gt;\\n    &lt;/tr&gt;\\n    &lt;tr&gt;\\n      &lt;th&gt;United States&lt;/th&gt;\\n      &lt;td&gt;180.166667&lt;/td&gt;\\n    &lt;/tr&gt;\\n  &lt;/tbody&gt;\\n&lt;/table&gt;\"},\"id\":\"1279\",\"type\":\"panel.models.markup.HTML\"},{\"attributes\":{\"active\":[0,1],\"button_type\":\"success\",\"labels\":[\"M\",\"F\"],\"margin\":[5,10,5,10]},\"id\":\"1275\",\"type\":\"CheckboxButtonGroup\"},{\"attributes\":{\"active\":0,\"button_type\":\"success\",\"labels\":[\"Height\",\"Weight\"],\"margin\":[5,10,5,10]},\"id\":\"1276\",\"type\":\"RadioButtonGroup\"},{\"attributes\":{\"margin\":[5,5,5,5],\"name\":\"HSpacer04484\",\"sizing_mode\":\"stretch_width\"},\"id\":\"1277\",\"type\":\"Spacer\"},{\"attributes\":{\"bar_color\":\"#f0d17d\",\"end\":2016,\"margin\":[5,10,5,10],\"start\":1896,\"step\":4,\"title\":\"Year\",\"value\":1896},\"id\":\"1274\",\"type\":\"Slider\"},{\"attributes\":{\"children\":[{\"id\":\"1272\"},{\"id\":\"1278\"}],\"margin\":[0,0,0,0],\"name\":\"Column04486\"},\"id\":\"1271\",\"type\":\"Column\"},{\"attributes\":{\"children\":[{\"id\":\"1279\"}],\"margin\":[0,0,0,0],\"name\":\"Row04481\"},\"id\":\"1278\",\"type\":\"Row\"},{\"attributes\":{\"children\":[{\"id\":\"1274\"},{\"id\":\"1275\"},{\"id\":\"1276\"}],\"margin\":[0,0,0,0],\"name\":\"Column04476\"},\"id\":\"1273\",\"type\":\"Column\"},{\"attributes\":{\"client_comm_id\":\"ed9b3c06d3584f688162e39de7224f45\",\"comm_id\":\"66c7d21af26a477592cc418f71aed3ec\",\"plot_id\":\"1270\"},\"id\":\"1280\",\"type\":\"panel.models.comm_manager.CommManager\"},{\"attributes\":{\"children\":[{\"id\":\"1271\"}],\"margin\":[0,0,0,0],\"name\":\"Row04487\"},\"id\":\"1270\",\"type\":\"Row\"},{\"attributes\":{\"children\":[{\"id\":\"1273\"},{\"id\":\"1277\"}],\"margin\":[0,0,0,0],\"name\":\"Row04485\"},\"id\":\"1272\",\"type\":\"Row\"}],\"root_ids\":[\"1270\",\"1280\"]},\"title\":\"Bokeh Application\",\"version\":\"2.4.3\"}};\n",
       "    var render_items = [{\"docid\":\"dec034aa-5393-43df-bbfa-dca7eeacfdee\",\"root_ids\":[\"1270\"],\"roots\":{\"1270\":\"740ac271-6bec-496b-b179-71b42fc11535\"}}];\n",
       "    root.Bokeh.embed.embed_items_notebook(docs_json, render_items);\n",
       "    for (const render_item of render_items) {\n",
       "      for (const root_id of render_item.root_ids) {\n",
       "\tconst id_el = document.getElementById(root_id)\n",
       "\tif (id_el.children.length && (id_el.children[0].className === 'bk-root')) {\n",
       "\t  const root_el = id_el.children[0]\n",
       "\t  root_el.id = root_el.id + '-rendered'\n",
       "\t}\n",
       "      }\n",
       "    }\n",
       "  }\n",
       "  if (root.Bokeh !== undefined && root.Bokeh.Panel !== undefined && ( root['Tabulator'] !== undefined) && ( root['Tabulator'] !== undefined)) {\n",
       "    embed_document(root);\n",
       "  } else {\n",
       "    var attempts = 0;\n",
       "    var timer = setInterval(function(root) {\n",
       "      if (root.Bokeh !== undefined && root.Bokeh.Panel !== undefined && (root['Tabulator'] !== undefined) && (root['Tabulator'] !== undefined)) {\n",
       "        clearInterval(timer);\n",
       "        embed_document(root);\n",
       "      } else if (document.readyState == \"complete\") {\n",
       "        attempts++;\n",
       "        if (attempts > 200) {\n",
       "          clearInterval(timer);\n",
       "          console.log(\"Bokeh: ERROR: Unable to run BokehJS code because BokehJS library is missing\");\n",
       "        }\n",
       "      }\n",
       "    }, 25, root)\n",
       "  }\n",
       "})(window);</script>"
      ],
      "text/plain": [
       "<hvplot.interactive.Interactive at 0x11bd41cd0>"
      ]
     },
     "execution_count": 17,
     "metadata": {
      "application/vnd.holoviews_exec.v0+json": {
       "id": "1270"
      }
     },
     "output_type": "execute_result"
    }
   ],
   "source": [
    "idf2 = df.interactive()\n",
    "\n",
    "year = pn.widgets.IntSlider(name='Year', start=1896, end=2016, step=4, bar_color='#f0d17d')\n",
    "sex_widget = pn.widgets.ToggleGroup(\n",
    "    name='Sex',\n",
    "    options=['M', 'F'], \n",
    "    value=['M', 'F'],\n",
    "    button_type='success')\n",
    "yaxis = pn.widgets.RadioButtonGroup(\n",
    "    name='Y axis', \n",
    "    options=['Height', 'Weight'],\n",
    "    button_type='success'\n",
    ")\n",
    "\n",
    "ipipeline2 = (\n",
    "    idf2[\n",
    "        (idf2.Year == year) & \n",
    "        (idf2.Sex.isin(sex_widget))\n",
    "    ]\n",
    "    .groupby(['Team'])[yaxis].mean()\n",
    "    .to_frame()\n",
    "    .sort_values(by='Team')\n",
    ")\n",
    "ipipeline2.head(10) # Change this number to determine how many teams you want to display at a time."
   ]
  },
  {
   "cell_type": "code",
   "execution_count": 18,
   "metadata": {},
   "outputs": [
    {
     "data": {},
     "metadata": {},
     "output_type": "display_data"
    },
    {
     "data": {
      "application/vnd.holoviews_exec.v0+json": "",
      "text/html": [
       "<div id='1281'>\n",
       "  <div class=\"bk-root\" id=\"7ca05d68-88cc-4179-b9bd-4cca460c5b28\" data-root-id=\"1281\"></div>\n",
       "</div>\n",
       "<script type=\"application/javascript\">(function(root) {\n",
       "  function embed_document(root) {\n",
       "    var docs_json = {\"00372de4-16ff-474f-9620-80d157d07684\":{\"defs\":[{\"extends\":null,\"module\":null,\"name\":\"ReactiveHTML1\",\"overrides\":[],\"properties\":[]},{\"extends\":null,\"module\":null,\"name\":\"FlexBox1\",\"overrides\":[],\"properties\":[{\"default\":\"flex-start\",\"kind\":null,\"name\":\"align_content\"},{\"default\":\"flex-start\",\"kind\":null,\"name\":\"align_items\"},{\"default\":\"row\",\"kind\":null,\"name\":\"flex_direction\"},{\"default\":\"wrap\",\"kind\":null,\"name\":\"flex_wrap\"},{\"default\":\"flex-start\",\"kind\":null,\"name\":\"justify_content\"}]},{\"extends\":null,\"module\":null,\"name\":\"GridStack1\",\"overrides\":[],\"properties\":[{\"default\":\"warn\",\"kind\":null,\"name\":\"mode\"},{\"default\":null,\"kind\":null,\"name\":\"ncols\"},{\"default\":null,\"kind\":null,\"name\":\"nrows\"},{\"default\":true,\"kind\":null,\"name\":\"allow_resize\"},{\"default\":true,\"kind\":null,\"name\":\"allow_drag\"},{\"default\":[],\"kind\":null,\"name\":\"state\"}]},{\"extends\":null,\"module\":null,\"name\":\"click1\",\"overrides\":[],\"properties\":[{\"default\":\"\",\"kind\":null,\"name\":\"terminal_output\"},{\"default\":\"\",\"kind\":null,\"name\":\"debug_name\"},{\"default\":0,\"kind\":null,\"name\":\"clears\"}]},{\"extends\":null,\"module\":null,\"name\":\"NotificationAreaBase1\",\"overrides\":[],\"properties\":[{\"default\":\"bottom-right\",\"kind\":null,\"name\":\"position\"},{\"default\":0,\"kind\":null,\"name\":\"_clear\"}]},{\"extends\":null,\"module\":null,\"name\":\"NotificationArea1\",\"overrides\":[],\"properties\":[{\"default\":[],\"kind\":null,\"name\":\"notifications\"},{\"default\":\"bottom-right\",\"kind\":null,\"name\":\"position\"},{\"default\":0,\"kind\":null,\"name\":\"_clear\"},{\"default\":[{\"background\":\"#ffc107\",\"icon\":{\"className\":\"fas fa-exclamation-triangle\",\"color\":\"white\",\"tagName\":\"i\"},\"type\":\"warning\"},{\"background\":\"#007bff\",\"icon\":{\"className\":\"fas fa-info-circle\",\"color\":\"white\",\"tagName\":\"i\"},\"type\":\"info\"}],\"kind\":null,\"name\":\"types\"}]},{\"extends\":null,\"module\":null,\"name\":\"Notification\",\"overrides\":[],\"properties\":[{\"default\":null,\"kind\":null,\"name\":\"background\"},{\"default\":3000,\"kind\":null,\"name\":\"duration\"},{\"default\":null,\"kind\":null,\"name\":\"icon\"},{\"default\":\"\",\"kind\":null,\"name\":\"message\"},{\"default\":null,\"kind\":null,\"name\":\"notification_type\"},{\"default\":false,\"kind\":null,\"name\":\"_destroyed\"}]},{\"extends\":null,\"module\":null,\"name\":\"TemplateActions1\",\"overrides\":[],\"properties\":[{\"default\":0,\"kind\":null,\"name\":\"open_modal\"},{\"default\":0,\"kind\":null,\"name\":\"close_modal\"}]},{\"extends\":null,\"module\":null,\"name\":\"MaterialTemplateActions1\",\"overrides\":[],\"properties\":[{\"default\":0,\"kind\":null,\"name\":\"open_modal\"},{\"default\":0,\"kind\":null,\"name\":\"close_modal\"}]}],\"roots\":{\"references\":[{\"attributes\":{\"children\":[{\"id\":\"1283\"},{\"id\":\"1289\"}],\"margin\":[0,0,0,0],\"name\":\"Column04565\"},\"id\":\"1282\",\"type\":\"Column\"},{\"attributes\":{\"columns\":[{\"id\":\"1295\"},{\"id\":\"1300\"}],\"configuration\":{\"columns\":[{\"field\":\"Team\"},{\"field\":\"Height\",\"sorter\":\"number\"}],\"dataTree\":false,\"selectable\":true},\"indexes\":[\"Team\"],\"layout\":\"fit_data_table\",\"margin\":[5,10,5,10],\"max_page\":1,\"name\":\"\",\"page\":1,\"page_size\":10,\"pagination\":\"remote\",\"select_mode\":true,\"selectable_rows\":null,\"source\":{\"id\":\"1290\"},\"styles\":{\"data\":{},\"id\":\"e29811879f4e47be8593aef35e8ab663\"},\"subscribed_events\":[\"cell-click\",\"table-edit\"],\"theme_url\":\"https://cdn.jsdelivr.net/npm/@holoviz/panel@0.14.4/dist/bundled/datatabulator/tabulator-tables@5.3.2/dist/css/\"},\"id\":\"1303\",\"type\":\"panel.models.tabulator.DataTabulator\"},{\"attributes\":{\"bar_color\":\"#f0d17d\",\"end\":2016,\"margin\":[5,10,5,10],\"start\":1896,\"step\":4,\"title\":\"Year\",\"value\":1896},\"id\":\"1285\",\"type\":\"Slider\"},{\"attributes\":{},\"id\":\"1305\",\"type\":\"UnionRenderers\"},{\"attributes\":{},\"id\":\"1294\",\"type\":\"CellEditor\"},{\"attributes\":{\"editor\":{\"id\":\"1294\"},\"field\":\"Team\",\"formatter\":{\"id\":\"1292\"},\"title\":\"Team\",\"width\":0},\"id\":\"1295\",\"type\":\"TableColumn\"},{\"attributes\":{\"active\":0,\"button_type\":\"success\",\"labels\":[\"Height\",\"Weight\"],\"margin\":[5,10,5,10]},\"id\":\"1287\",\"type\":\"RadioButtonGroup\"},{\"attributes\":{},\"id\":\"1292\",\"type\":\"StringFormatter\"},{\"attributes\":{\"children\":[{\"id\":\"1303\"}],\"margin\":[0,0,0,0],\"name\":\"Row04562\"},\"id\":\"1289\",\"type\":\"Row\"},{\"attributes\":{\"children\":[{\"id\":\"1284\"},{\"id\":\"1288\"}],\"margin\":[0,0,0,0],\"name\":\"Row04564\"},\"id\":\"1283\",\"type\":\"Row\"},{\"attributes\":{\"data\":{\"Height\":{\"__ndarray__\":\"VVVVVVU1ZEAAAAAAAIBnQFVVVVVVhWZA\",\"dtype\":\"float64\",\"order\":\"little\",\"shape\":[3]},\"Team\":[\"Germany\",\"Great Britain\",\"United States\"]},\"selected\":{\"id\":\"1291\"},\"selection_policy\":{\"id\":\"1305\"}},\"id\":\"1290\",\"type\":\"ColumnDataSource\"},{\"attributes\":{\"format\":\"0,0.0[00000]\",\"text_align\":\"right\"},\"id\":\"1298\",\"type\":\"NumberFormatter\"},{\"attributes\":{\"children\":[{\"id\":\"1282\"}],\"margin\":[0,0,0,0],\"name\":\"Row04566\"},\"id\":\"1281\",\"type\":\"Row\"},{\"attributes\":{\"children\":[{\"id\":\"1285\"},{\"id\":\"1286\"},{\"id\":\"1287\"}],\"margin\":[0,0,0,0],\"name\":\"Column04557\"},\"id\":\"1284\",\"type\":\"Column\"},{\"attributes\":{\"client_comm_id\":\"d34f86d34c6348d2b4858f5e5ce74bf7\",\"comm_id\":\"ff7aae812aa9408cbe41580162dd3a6f\",\"plot_id\":\"1281\"},\"id\":\"1311\",\"type\":\"panel.models.comm_manager.CommManager\"},{\"attributes\":{\"active\":[0,1],\"button_type\":\"success\",\"labels\":[\"M\",\"F\"],\"margin\":[5,10,5,10]},\"id\":\"1286\",\"type\":\"CheckboxButtonGroup\"},{\"attributes\":{},\"id\":\"1299\",\"type\":\"NumberEditor\"},{\"attributes\":{\"editor\":{\"id\":\"1299\"},\"field\":\"Height\",\"formatter\":{\"id\":\"1298\"},\"title\":\"Height\",\"width\":0},\"id\":\"1300\",\"type\":\"TableColumn\"},{\"attributes\":{\"margin\":[5,5,5,5],\"name\":\"HSpacer04563\",\"sizing_mode\":\"stretch_width\"},\"id\":\"1288\",\"type\":\"Spacer\"},{\"attributes\":{\"indices\":[]},\"id\":\"1291\",\"type\":\"Selection\"}],\"root_ids\":[\"1281\",\"1311\"]},\"title\":\"Bokeh Application\",\"version\":\"2.4.3\"}};\n",
       "    var render_items = [{\"docid\":\"00372de4-16ff-474f-9620-80d157d07684\",\"root_ids\":[\"1281\"],\"roots\":{\"1281\":\"7ca05d68-88cc-4179-b9bd-4cca460c5b28\"}}];\n",
       "    root.Bokeh.embed.embed_items_notebook(docs_json, render_items);\n",
       "    for (const render_item of render_items) {\n",
       "      for (const root_id of render_item.root_ids) {\n",
       "\tconst id_el = document.getElementById(root_id)\n",
       "\tif (id_el.children.length && (id_el.children[0].className === 'bk-root')) {\n",
       "\t  const root_el = id_el.children[0]\n",
       "\t  root_el.id = root_el.id + '-rendered'\n",
       "\t}\n",
       "      }\n",
       "    }\n",
       "  }\n",
       "  if (root.Bokeh !== undefined && root.Bokeh.Panel !== undefined && ( root['Tabulator'] !== undefined) && ( root['Tabulator'] !== undefined)) {\n",
       "    embed_document(root);\n",
       "  } else {\n",
       "    var attempts = 0;\n",
       "    var timer = setInterval(function(root) {\n",
       "      if (root.Bokeh !== undefined && root.Bokeh.Panel !== undefined && (root['Tabulator'] !== undefined) && (root['Tabulator'] !== undefined)) {\n",
       "        clearInterval(timer);\n",
       "        embed_document(root);\n",
       "      } else if (document.readyState == \"complete\") {\n",
       "        attempts++;\n",
       "        if (attempts > 200) {\n",
       "          clearInterval(timer);\n",
       "          console.log(\"Bokeh: ERROR: Unable to run BokehJS code because BokehJS library is missing\");\n",
       "        }\n",
       "      }\n",
       "    }, 25, root)\n",
       "  }\n",
       "})(window);</script>"
      ],
      "text/plain": [
       "<hvplot.interactive.Interactive at 0x11bd4b790>"
      ]
     },
     "execution_count": 18,
     "metadata": {
      "application/vnd.holoviews_exec.v0+json": {
       "id": "1281"
      }
     },
     "output_type": "execute_result"
    }
   ],
   "source": [
    "itable = ipipeline2.pipe(pn.widgets.Tabulator, pagination='remote', page_size=10)\n",
    "itable"
   ]
  },
  {
   "cell_type": "markdown",
   "metadata": {},
   "source": [
    "## Section 2: Write-up"
   ]
  },
  {
   "cell_type": "markdown",
   "metadata": {},
   "source": [
    "### GitHub\n",
    "My dataset is not a 'larger' one as it is within the limits specified by GitHub.\n",
    "\n",
    "### Contextual Datasets\n",
    "I found a dataset specifically on the Tokyo 2021 Olympics. This dataset is more indepth than the one explored in this Notebook, as this dataset is more generalized, as the data is of athletes competing in every single Olympic Games since 1896. This new contextual dataset has more metrics, such as details of the athletes, coach information, their discpline and much more. It can be found at: https://www.kaggle.com/datasets/arjunprasadsarkhel/2021-olympics-in-tokyo. It'd be useful as it gives a different perspective of Olympic Games data.\n",
    "\n",
    "### Dashboard Explanation\n",
    "**Dashboard #1** allows the user to see each olympic team's medal count over each games (each year). If you move the slider at the top of the dashboard across, you can see how the medal counts change over time -- so you can see for a specific Olympic Games, how many medals each team got. \n",
    "\n",
    "There's also functionality involving gender. The medal count per gender can be seen by clicking either the 'M' button, 'F' button, or both at the same time! Depending on which one is pressed, it will display the medal count each gender contributes. For example, if you move the slider to the year 2000, we can see Australia got a total of 181 medals. Selecting the M button gives 94, whilst the F button gives 87 -- both genders seem to contribute almost evenly for Australia's medal count!\n",
    "\n",
    "Piping the data to the `itable` allows us to sort each column, in ascending or descending order. This is particulary useful for seeing, for a given year, the top 10 countries that got the most medals, or even the countries that got the least amount of medals!\n",
    "\n",
    "**Dashboard #2** allows you to see the average weight and height for athletes for each team over time. The functionality is similar to Dashboard #1, so the functionality exists over all the games (1896 onwards), and you can filter it per gender. In this dashboard the `index` column was dropped just to show that it is possible to omit this column if desired.\n",
    "\n",
    "***Note***: I was originally part of Group 10. One of my teammates dropped out of the group last minute; as a result I've completed Part 2 by myself."
   ]
  }
 ],
 "metadata": {
  "kernelspec": {
   "display_name": "Python 3 (ipykernel)",
   "language": "python",
   "name": "python3"
  },
  "language_info": {
   "codemirror_mode": {
    "name": "ipython",
    "version": 3
   },
   "file_extension": ".py",
   "mimetype": "text/x-python",
   "name": "python",
   "nbconvert_exporter": "python",
   "pygments_lexer": "ipython3",
   "version": "3.7.16"
  }
 },
 "nbformat": 4,
 "nbformat_minor": 2
}
