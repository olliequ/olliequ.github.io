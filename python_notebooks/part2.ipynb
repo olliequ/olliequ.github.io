{
 "cells": [
  {
   "cell_type": "markdown",
   "metadata": {},
   "source": [
    "# Final Project -- Part 2\n",
    "## Oliver Quarm (oquarm2)"
   ]
  },
  {
   "cell_type": "markdown",
   "metadata": {},
   "source": [
    "## Section 1: Code\n",
    "### Running instructions: \n",
    "I've tried opening this Jupyter Notebook in VSCode and it doesn't appear correctly. Run the Notebook as a regular Jupyter Notebook server (through your browser) and the widgets will display. I used Python 3.7 as my kernel for this Notebook. \n",
    "### Import neccessary packages"
   ]
  },
  {
   "cell_type": "code",
   "execution_count": 164,
   "metadata": {},
   "outputs": [],
   "source": [
    "import panel as pn\n",
    "import hvplot.pandas\n",
    "import holoviews as hv\n",
    "pn.extension('tabulator', sizing_mode=\"stretch_width\")\n",
    "hv.extension('bokeh')"
   ]
  },
  {
   "cell_type": "markdown",
   "metadata": {},
   "source": [
    "### Read in the data"
   ]
  },
  {
   "cell_type": "code",
   "execution_count": 165,
   "metadata": {},
   "outputs": [
    {
     "data": {
      "text/html": [
       "<div>\n",
       "<style scoped>\n",
       "    .dataframe tbody tr th:only-of-type {\n",
       "        vertical-align: middle;\n",
       "    }\n",
       "\n",
       "    .dataframe tbody tr th {\n",
       "        vertical-align: top;\n",
       "    }\n",
       "\n",
       "    .dataframe thead th {\n",
       "        text-align: right;\n",
       "    }\n",
       "</style>\n",
       "<table border=\"1\" class=\"dataframe\">\n",
       "  <thead>\n",
       "    <tr style=\"text-align: right;\">\n",
       "      <th></th>\n",
       "      <th>ID</th>\n",
       "      <th>Name</th>\n",
       "      <th>Sex</th>\n",
       "      <th>Age</th>\n",
       "      <th>Height</th>\n",
       "      <th>Weight</th>\n",
       "      <th>Team</th>\n",
       "      <th>NOC</th>\n",
       "      <th>Games</th>\n",
       "      <th>Year</th>\n",
       "      <th>Season</th>\n",
       "      <th>City</th>\n",
       "      <th>Sport</th>\n",
       "      <th>Event</th>\n",
       "      <th>Medal</th>\n",
       "    </tr>\n",
       "  </thead>\n",
       "  <tbody>\n",
       "    <tr>\n",
       "      <th>40</th>\n",
       "      <td>16</td>\n",
       "      <td>Juhamatti Tapio Aaltonen</td>\n",
       "      <td>M</td>\n",
       "      <td>28.0</td>\n",
       "      <td>184.0</td>\n",
       "      <td>85.0</td>\n",
       "      <td>Finland</td>\n",
       "      <td>FIN</td>\n",
       "      <td>2014 Winter</td>\n",
       "      <td>2014</td>\n",
       "      <td>Winter</td>\n",
       "      <td>Sochi</td>\n",
       "      <td>Ice Hockey</td>\n",
       "      <td>Ice Hockey Men's Ice Hockey</td>\n",
       "      <td>Bronze</td>\n",
       "    </tr>\n",
       "    <tr>\n",
       "      <th>41</th>\n",
       "      <td>17</td>\n",
       "      <td>Paavo Johannes Aaltonen</td>\n",
       "      <td>M</td>\n",
       "      <td>28.0</td>\n",
       "      <td>175.0</td>\n",
       "      <td>64.0</td>\n",
       "      <td>Finland</td>\n",
       "      <td>FIN</td>\n",
       "      <td>1948 Summer</td>\n",
       "      <td>1948</td>\n",
       "      <td>Summer</td>\n",
       "      <td>London</td>\n",
       "      <td>Gymnastics</td>\n",
       "      <td>Gymnastics Men's Individual All-Around</td>\n",
       "      <td>Bronze</td>\n",
       "    </tr>\n",
       "    <tr>\n",
       "      <th>42</th>\n",
       "      <td>17</td>\n",
       "      <td>Paavo Johannes Aaltonen</td>\n",
       "      <td>M</td>\n",
       "      <td>28.0</td>\n",
       "      <td>175.0</td>\n",
       "      <td>64.0</td>\n",
       "      <td>Finland</td>\n",
       "      <td>FIN</td>\n",
       "      <td>1948 Summer</td>\n",
       "      <td>1948</td>\n",
       "      <td>Summer</td>\n",
       "      <td>London</td>\n",
       "      <td>Gymnastics</td>\n",
       "      <td>Gymnastics Men's Team All-Around</td>\n",
       "      <td>Gold</td>\n",
       "    </tr>\n",
       "    <tr>\n",
       "      <th>44</th>\n",
       "      <td>17</td>\n",
       "      <td>Paavo Johannes Aaltonen</td>\n",
       "      <td>M</td>\n",
       "      <td>28.0</td>\n",
       "      <td>175.0</td>\n",
       "      <td>64.0</td>\n",
       "      <td>Finland</td>\n",
       "      <td>FIN</td>\n",
       "      <td>1948 Summer</td>\n",
       "      <td>1948</td>\n",
       "      <td>Summer</td>\n",
       "      <td>London</td>\n",
       "      <td>Gymnastics</td>\n",
       "      <td>Gymnastics Men's Horse Vault</td>\n",
       "      <td>Gold</td>\n",
       "    </tr>\n",
       "    <tr>\n",
       "      <th>48</th>\n",
       "      <td>17</td>\n",
       "      <td>Paavo Johannes Aaltonen</td>\n",
       "      <td>M</td>\n",
       "      <td>28.0</td>\n",
       "      <td>175.0</td>\n",
       "      <td>64.0</td>\n",
       "      <td>Finland</td>\n",
       "      <td>FIN</td>\n",
       "      <td>1948 Summer</td>\n",
       "      <td>1948</td>\n",
       "      <td>Summer</td>\n",
       "      <td>London</td>\n",
       "      <td>Gymnastics</td>\n",
       "      <td>Gymnastics Men's Pommelled Horse</td>\n",
       "      <td>Gold</td>\n",
       "    </tr>\n",
       "  </tbody>\n",
       "</table>\n",
       "</div>"
      ],
      "text/plain": [
       "    ID                      Name Sex   Age  Height  Weight     Team  NOC  \\\n",
       "40  16  Juhamatti Tapio Aaltonen   M  28.0   184.0    85.0  Finland  FIN   \n",
       "41  17   Paavo Johannes Aaltonen   M  28.0   175.0    64.0  Finland  FIN   \n",
       "42  17   Paavo Johannes Aaltonen   M  28.0   175.0    64.0  Finland  FIN   \n",
       "44  17   Paavo Johannes Aaltonen   M  28.0   175.0    64.0  Finland  FIN   \n",
       "48  17   Paavo Johannes Aaltonen   M  28.0   175.0    64.0  Finland  FIN   \n",
       "\n",
       "          Games  Year  Season    City       Sport  \\\n",
       "40  2014 Winter  2014  Winter   Sochi  Ice Hockey   \n",
       "41  1948 Summer  1948  Summer  London  Gymnastics   \n",
       "42  1948 Summer  1948  Summer  London  Gymnastics   \n",
       "44  1948 Summer  1948  Summer  London  Gymnastics   \n",
       "48  1948 Summer  1948  Summer  London  Gymnastics   \n",
       "\n",
       "                                     Event   Medal  \n",
       "40             Ice Hockey Men's Ice Hockey  Bronze  \n",
       "41  Gymnastics Men's Individual All-Around  Bronze  \n",
       "42        Gymnastics Men's Team All-Around    Gold  \n",
       "44            Gymnastics Men's Horse Vault    Gold  \n",
       "48        Gymnastics Men's Pommelled Horse    Gold  "
      ]
     },
     "execution_count": 165,
     "metadata": {},
     "output_type": "execute_result"
    }
   ],
   "source": [
    "import numpy as np\n",
    "import pandas as pd\n",
    "\n",
    "df = pd.read_csv(\"./athlete_events.csv\")\n",
    "# df = df[df['Medal'] == \"Gold\"]\n",
    "df = df[df['Team'].notna()]\n",
    "df = df[df['Medal'].notna()]\n",
    "df = df[df['Height'].notna()]\n",
    "df = df[df['Weight'].notna()]\n",
    "df.head()"
   ]
  },
  {
   "cell_type": "markdown",
   "metadata": {},
   "source": [
    "### Select out the columns we need for the widgets."
   ]
  },
  {
   "cell_type": "code",
   "execution_count": 166,
   "metadata": {},
   "outputs": [
    {
     "data": {
      "text/html": [
       "<div>\n",
       "<style scoped>\n",
       "    .dataframe tbody tr th:only-of-type {\n",
       "        vertical-align: middle;\n",
       "    }\n",
       "\n",
       "    .dataframe tbody tr th {\n",
       "        vertical-align: top;\n",
       "    }\n",
       "\n",
       "    .dataframe thead th {\n",
       "        text-align: right;\n",
       "    }\n",
       "</style>\n",
       "<table border=\"1\" class=\"dataframe\">\n",
       "  <thead>\n",
       "    <tr style=\"text-align: right;\">\n",
       "      <th></th>\n",
       "      <th>Sex</th>\n",
       "      <th>Team</th>\n",
       "      <th>Age</th>\n",
       "      <th>Height</th>\n",
       "      <th>Weight</th>\n",
       "      <th>Year</th>\n",
       "      <th>Medal</th>\n",
       "    </tr>\n",
       "  </thead>\n",
       "  <tbody>\n",
       "    <tr>\n",
       "      <th>23990</th>\n",
       "      <td>M</td>\n",
       "      <td>United States</td>\n",
       "      <td>20.0</td>\n",
       "      <td>188.0</td>\n",
       "      <td>81.0</td>\n",
       "      <td>1896</td>\n",
       "      <td>4</td>\n",
       "    </tr>\n",
       "    <tr>\n",
       "      <th>25325</th>\n",
       "      <td>M</td>\n",
       "      <td>United States</td>\n",
       "      <td>27.0</td>\n",
       "      <td>175.0</td>\n",
       "      <td>72.0</td>\n",
       "      <td>1896</td>\n",
       "      <td>3</td>\n",
       "    </tr>\n",
       "    <tr>\n",
       "      <th>24120</th>\n",
       "      <td>M</td>\n",
       "      <td>United States</td>\n",
       "      <td>21.0</td>\n",
       "      <td>183.0</td>\n",
       "      <td>66.0</td>\n",
       "      <td>1896</td>\n",
       "      <td>2</td>\n",
       "    </tr>\n",
       "    <tr>\n",
       "      <th>23914</th>\n",
       "      <td>M</td>\n",
       "      <td>United States</td>\n",
       "      <td>20.0</td>\n",
       "      <td>173.0</td>\n",
       "      <td>69.0</td>\n",
       "      <td>1896</td>\n",
       "      <td>1</td>\n",
       "    </tr>\n",
       "    <tr>\n",
       "      <th>14534</th>\n",
       "      <td>M</td>\n",
       "      <td>Germany</td>\n",
       "      <td>24.0</td>\n",
       "      <td>167.0</td>\n",
       "      <td>56.0</td>\n",
       "      <td>1896</td>\n",
       "      <td>2</td>\n",
       "    </tr>\n",
       "  </tbody>\n",
       "</table>\n",
       "</div>"
      ],
      "text/plain": [
       "      Sex           Team   Age  Height  Weight  Year  Medal\n",
       "23990   M  United States  20.0   188.0    81.0  1896      4\n",
       "25325   M  United States  27.0   175.0    72.0  1896      3\n",
       "24120   M  United States  21.0   183.0    66.0  1896      2\n",
       "23914   M  United States  20.0   173.0    69.0  1896      1\n",
       "14534   M        Germany  24.0   167.0    56.0  1896      2"
      ]
     },
     "execution_count": 166,
     "metadata": {},
     "output_type": "execute_result"
    }
   ],
   "source": [
    "(\n",
    "    df\n",
    "    .groupby(['Sex', 'Team', 'Age', 'Height', 'Weight', 'Year'])['Medal'].count()\n",
    "    .to_frame()\n",
    "    .reset_index()\n",
    "    .sort_values(by='Year')\n",
    ").head(5)"
   ]
  },
  {
   "cell_type": "markdown",
   "metadata": {},
   "source": [
    "### Create widget set #1"
   ]
  },
  {
   "cell_type": "code",
   "execution_count": 167,
   "metadata": {},
   "outputs": [],
   "source": [
    "idf = df.interactive()"
   ]
  },
  {
   "cell_type": "code",
   "execution_count": 168,
   "metadata": {},
   "outputs": [],
   "source": [
    "year = pn.widgets.IntSlider(name='Year', start=1896, end=2016, step=4, bar_color='#bbc2f0')\n",
    "sex_widget = pn.widgets.ToggleGroup(\n",
    "    name='Sex',\n",
    "    options=['M', 'F'], \n",
    "    value=['M', 'F'],\n",
    "    button_type='primary')\n",
    "yaxis = pn.widgets.RadioButtonGroup(\n",
    "    name='Y axis', \n",
    "    options=['Medal'],\n",
    "    button_type='primary'\n",
    ")"
   ]
  },
  {
   "cell_type": "code",
   "execution_count": 169,
   "metadata": {},
   "outputs": [
    {
     "data": {},
     "metadata": {},
     "output_type": "display_data"
    },
    {
     "data": {
      "application/vnd.holoviews_exec.v0+json": "",
      "text/html": [
       "<div id='5337'>\n",
       "  <div class=\"bk-root\" id=\"a0835a05-e98e-46af-be1e-f99fd42ff663\" data-root-id=\"5337\"></div>\n",
       "</div>\n",
       "<script type=\"application/javascript\">(function(root) {\n",
       "  function embed_document(root) {\n",
       "    var docs_json = {\"18e01089-6e72-4278-9bf8-c97155fb2698\":{\"defs\":[{\"extends\":null,\"module\":null,\"name\":\"ReactiveHTML1\",\"overrides\":[],\"properties\":[]},{\"extends\":null,\"module\":null,\"name\":\"FlexBox1\",\"overrides\":[],\"properties\":[{\"default\":\"flex-start\",\"kind\":null,\"name\":\"align_content\"},{\"default\":\"flex-start\",\"kind\":null,\"name\":\"align_items\"},{\"default\":\"row\",\"kind\":null,\"name\":\"flex_direction\"},{\"default\":\"wrap\",\"kind\":null,\"name\":\"flex_wrap\"},{\"default\":\"flex-start\",\"kind\":null,\"name\":\"justify_content\"}]},{\"extends\":null,\"module\":null,\"name\":\"GridStack1\",\"overrides\":[],\"properties\":[{\"default\":\"warn\",\"kind\":null,\"name\":\"mode\"},{\"default\":null,\"kind\":null,\"name\":\"ncols\"},{\"default\":null,\"kind\":null,\"name\":\"nrows\"},{\"default\":true,\"kind\":null,\"name\":\"allow_resize\"},{\"default\":true,\"kind\":null,\"name\":\"allow_drag\"},{\"default\":[],\"kind\":null,\"name\":\"state\"}]},{\"extends\":null,\"module\":null,\"name\":\"click1\",\"overrides\":[],\"properties\":[{\"default\":\"\",\"kind\":null,\"name\":\"terminal_output\"},{\"default\":\"\",\"kind\":null,\"name\":\"debug_name\"},{\"default\":0,\"kind\":null,\"name\":\"clears\"}]},{\"extends\":null,\"module\":null,\"name\":\"NotificationAreaBase1\",\"overrides\":[],\"properties\":[{\"default\":\"bottom-right\",\"kind\":null,\"name\":\"position\"},{\"default\":0,\"kind\":null,\"name\":\"_clear\"}]},{\"extends\":null,\"module\":null,\"name\":\"NotificationArea1\",\"overrides\":[],\"properties\":[{\"default\":[],\"kind\":null,\"name\":\"notifications\"},{\"default\":\"bottom-right\",\"kind\":null,\"name\":\"position\"},{\"default\":0,\"kind\":null,\"name\":\"_clear\"},{\"default\":[{\"background\":\"#ffc107\",\"icon\":{\"className\":\"fas fa-exclamation-triangle\",\"color\":\"white\",\"tagName\":\"i\"},\"type\":\"warning\"},{\"background\":\"#007bff\",\"icon\":{\"className\":\"fas fa-info-circle\",\"color\":\"white\",\"tagName\":\"i\"},\"type\":\"info\"}],\"kind\":null,\"name\":\"types\"}]},{\"extends\":null,\"module\":null,\"name\":\"Notification\",\"overrides\":[],\"properties\":[{\"default\":null,\"kind\":null,\"name\":\"background\"},{\"default\":3000,\"kind\":null,\"name\":\"duration\"},{\"default\":null,\"kind\":null,\"name\":\"icon\"},{\"default\":\"\",\"kind\":null,\"name\":\"message\"},{\"default\":null,\"kind\":null,\"name\":\"notification_type\"},{\"default\":false,\"kind\":null,\"name\":\"_destroyed\"}]},{\"extends\":null,\"module\":null,\"name\":\"TemplateActions1\",\"overrides\":[],\"properties\":[{\"default\":0,\"kind\":null,\"name\":\"open_modal\"},{\"default\":0,\"kind\":null,\"name\":\"close_modal\"}]},{\"extends\":null,\"module\":null,\"name\":\"MaterialTemplateActions1\",\"overrides\":[],\"properties\":[{\"default\":0,\"kind\":null,\"name\":\"open_modal\"},{\"default\":0,\"kind\":null,\"name\":\"close_modal\"}]}],\"roots\":{\"references\":[{\"attributes\":{\"children\":[{\"id\":\"5340\"},{\"id\":\"5344\"}],\"margin\":[0,0,0,0],\"name\":\"Row37306\",\"sizing_mode\":\"stretch_width\"},\"id\":\"5339\",\"type\":\"Row\"},{\"attributes\":{\"bar_color\":\"#bbc2f0\",\"end\":2016,\"margin\":[5,10,5,10],\"sizing_mode\":\"stretch_width\",\"start\":1896,\"step\":4,\"title\":\"Year\",\"value\":1896},\"id\":\"5341\",\"type\":\"Slider\"},{\"attributes\":{\"margin\":[5,5,5,5],\"name\":\"DataFrame37303\",\"sizing_mode\":\"stretch_width\",\"text\":\"&lt;table border=&quot;0&quot; class=&quot;dataframe panel-df&quot;&gt;\\n  &lt;thead&gt;\\n    &lt;tr style=&quot;text-align: right;&quot;&gt;\\n      &lt;th&gt;&lt;/th&gt;\\n      &lt;th&gt;Team&lt;/th&gt;\\n      &lt;th&gt;Medal&lt;/th&gt;\\n    &lt;/tr&gt;\\n  &lt;/thead&gt;\\n  &lt;tbody&gt;\\n    &lt;tr&gt;\\n      &lt;th&gt;0&lt;/th&gt;\\n      &lt;td&gt;Germany&lt;/td&gt;\\n      &lt;td&gt;6&lt;/td&gt;\\n    &lt;/tr&gt;\\n    &lt;tr&gt;\\n      &lt;th&gt;1&lt;/th&gt;\\n      &lt;td&gt;Great Britain&lt;/td&gt;\\n      &lt;td&gt;2&lt;/td&gt;\\n    &lt;/tr&gt;\\n    &lt;tr&gt;\\n      &lt;th&gt;2&lt;/th&gt;\\n      &lt;td&gt;United States&lt;/td&gt;\\n      &lt;td&gt;12&lt;/td&gt;\\n    &lt;/tr&gt;\\n  &lt;/tbody&gt;\\n&lt;/table&gt;\"},\"id\":\"5346\",\"type\":\"panel.models.markup.HTML\"},{\"attributes\":{\"children\":[{\"id\":\"5341\"},{\"id\":\"5342\"},{\"id\":\"5343\"}],\"margin\":[0,0,0,0],\"name\":\"Column37297\",\"sizing_mode\":\"stretch_width\"},\"id\":\"5340\",\"type\":\"Column\"},{\"attributes\":{\"active\":0,\"button_type\":\"primary\",\"labels\":[\"Medal\"],\"margin\":[5,10,5,10],\"sizing_mode\":\"stretch_width\"},\"id\":\"5343\",\"type\":\"RadioButtonGroup\"},{\"attributes\":{\"children\":[{\"id\":\"5338\"}],\"margin\":[0,0,0,0],\"name\":\"Row37308\",\"sizing_mode\":\"stretch_width\"},\"id\":\"5337\",\"type\":\"Row\"},{\"attributes\":{\"margin\":[5,5,5,5],\"name\":\"HSpacer37305\",\"sizing_mode\":\"stretch_width\"},\"id\":\"5344\",\"type\":\"Spacer\"},{\"attributes\":{\"children\":[{\"id\":\"5346\"}],\"margin\":[0,0,0,0],\"name\":\"Row37302\",\"sizing_mode\":\"stretch_width\"},\"id\":\"5345\",\"type\":\"Row\"},{\"attributes\":{\"active\":[0,1],\"button_type\":\"primary\",\"labels\":[\"M\",\"F\"],\"margin\":[5,10,5,10],\"sizing_mode\":\"stretch_width\"},\"id\":\"5342\",\"type\":\"CheckboxButtonGroup\"},{\"attributes\":{\"client_comm_id\":\"d62526f5312b4244ab772e5f4b82c00e\",\"comm_id\":\"79bf4455fbfa49c4acfb1595d635f2c8\",\"plot_id\":\"5337\"},\"id\":\"5347\",\"type\":\"panel.models.comm_manager.CommManager\"},{\"attributes\":{\"children\":[{\"id\":\"5339\"},{\"id\":\"5345\"}],\"margin\":[0,0,0,0],\"name\":\"Column37307\",\"sizing_mode\":\"stretch_width\"},\"id\":\"5338\",\"type\":\"Column\"}],\"root_ids\":[\"5337\",\"5347\"]},\"title\":\"Bokeh Application\",\"version\":\"2.4.3\"}};\n",
       "    var render_items = [{\"docid\":\"18e01089-6e72-4278-9bf8-c97155fb2698\",\"root_ids\":[\"5337\"],\"roots\":{\"5337\":\"a0835a05-e98e-46af-be1e-f99fd42ff663\"}}];\n",
       "    root.Bokeh.embed.embed_items_notebook(docs_json, render_items);\n",
       "    for (const render_item of render_items) {\n",
       "      for (const root_id of render_item.root_ids) {\n",
       "\tconst id_el = document.getElementById(root_id)\n",
       "\tif (id_el.children.length && (id_el.children[0].className === 'bk-root')) {\n",
       "\t  const root_el = id_el.children[0]\n",
       "\t  root_el.id = root_el.id + '-rendered'\n",
       "\t}\n",
       "      }\n",
       "    }\n",
       "  }\n",
       "  if (root.Bokeh !== undefined && root.Bokeh.Panel !== undefined && ( root['Tabulator'] !== undefined) && ( root['Tabulator'] !== undefined) && ( root['Tabulator'] !== undefined) && ( root['Tabulator'] !== undefined) && ( root['Tabulator'] !== undefined) && ( root['Tabulator'] !== undefined) && ( root['Tabulator'] !== undefined) && ( root['Tabulator'] !== undefined) && ( root['Tabulator'] !== undefined) && ( root['Tabulator'] !== undefined) && ( root['Tabulator'] !== undefined) && ( root['Tabulator'] !== undefined) && ( root['Tabulator'] !== undefined) && ( root['Tabulator'] !== undefined)) {\n",
       "    embed_document(root);\n",
       "  } else {\n",
       "    var attempts = 0;\n",
       "    var timer = setInterval(function(root) {\n",
       "      if (root.Bokeh !== undefined && root.Bokeh.Panel !== undefined && (root['Tabulator'] !== undefined) && (root['Tabulator'] !== undefined) && (root['Tabulator'] !== undefined) && (root['Tabulator'] !== undefined) && (root['Tabulator'] !== undefined) && (root['Tabulator'] !== undefined) && (root['Tabulator'] !== undefined) && (root['Tabulator'] !== undefined) && (root['Tabulator'] !== undefined) && (root['Tabulator'] !== undefined) && (root['Tabulator'] !== undefined) && (root['Tabulator'] !== undefined) && (root['Tabulator'] !== undefined) && (root['Tabulator'] !== undefined)) {\n",
       "        clearInterval(timer);\n",
       "        embed_document(root);\n",
       "      } else if (document.readyState == \"complete\") {\n",
       "        attempts++;\n",
       "        if (attempts > 200) {\n",
       "          clearInterval(timer);\n",
       "          console.log(\"Bokeh: ERROR: Unable to run BokehJS code because BokehJS library is missing\");\n",
       "        }\n",
       "      }\n",
       "    }, 25, root)\n",
       "  }\n",
       "})(window);</script>"
      ],
      "text/plain": [
       "<hvplot.interactive.Interactive at 0x129622310>"
      ]
     },
     "execution_count": 169,
     "metadata": {
      "application/vnd.holoviews_exec.v0+json": {
       "id": "5337"
      }
     },
     "output_type": "execute_result"
    }
   ],
   "source": [
    "ipipeline = (\n",
    "    idf[\n",
    "        (idf.Year == year) & \n",
    "        (idf.Sex.isin(sex_widget))\n",
    "    ]\n",
    "    .groupby(['Team'])[yaxis].count()\n",
    "    .to_frame()\n",
    "    .reset_index()\n",
    "    .sort_values(by='Team')  \n",
    "    .reset_index(drop=True)\n",
    ")\n",
    "ipipeline.head(10) # Change this number to determine how many teams you want to display at a time."
   ]
  },
  {
   "cell_type": "markdown",
   "metadata": {},
   "source": [
    "### Explanation\n",
    "The above is the `ipipeline` first visualized. By default, both genders are preselected. Click a gender button to remove them (or later add them) to/from the count. Below the data/widget is piped to a table for better viewing. You don't need to click the buttons in the below table -- click the buttons above and the output below will also change accordingly! The beauty of piping to an `itable` as per below is that you can click the sort columns arrows to sort each column (that's the main benefit of piping the data/widgets to a table below)."
   ]
  },
  {
   "cell_type": "code",
   "execution_count": 170,
   "metadata": {},
   "outputs": [
    {
     "data": {},
     "metadata": {},
     "output_type": "display_data"
    },
    {
     "data": {
      "application/vnd.holoviews_exec.v0+json": "",
      "text/html": [
       "<div id='5348'>\n",
       "  <div class=\"bk-root\" id=\"26fbf34d-e67e-4460-8f1c-72852c6a9e25\" data-root-id=\"5348\"></div>\n",
       "</div>\n",
       "<script type=\"application/javascript\">(function(root) {\n",
       "  function embed_document(root) {\n",
       "    var docs_json = {\"81cc889d-0ba3-4438-9b0d-db7c90cf4bc2\":{\"defs\":[{\"extends\":null,\"module\":null,\"name\":\"ReactiveHTML1\",\"overrides\":[],\"properties\":[]},{\"extends\":null,\"module\":null,\"name\":\"FlexBox1\",\"overrides\":[],\"properties\":[{\"default\":\"flex-start\",\"kind\":null,\"name\":\"align_content\"},{\"default\":\"flex-start\",\"kind\":null,\"name\":\"align_items\"},{\"default\":\"row\",\"kind\":null,\"name\":\"flex_direction\"},{\"default\":\"wrap\",\"kind\":null,\"name\":\"flex_wrap\"},{\"default\":\"flex-start\",\"kind\":null,\"name\":\"justify_content\"}]},{\"extends\":null,\"module\":null,\"name\":\"GridStack1\",\"overrides\":[],\"properties\":[{\"default\":\"warn\",\"kind\":null,\"name\":\"mode\"},{\"default\":null,\"kind\":null,\"name\":\"ncols\"},{\"default\":null,\"kind\":null,\"name\":\"nrows\"},{\"default\":true,\"kind\":null,\"name\":\"allow_resize\"},{\"default\":true,\"kind\":null,\"name\":\"allow_drag\"},{\"default\":[],\"kind\":null,\"name\":\"state\"}]},{\"extends\":null,\"module\":null,\"name\":\"click1\",\"overrides\":[],\"properties\":[{\"default\":\"\",\"kind\":null,\"name\":\"terminal_output\"},{\"default\":\"\",\"kind\":null,\"name\":\"debug_name\"},{\"default\":0,\"kind\":null,\"name\":\"clears\"}]},{\"extends\":null,\"module\":null,\"name\":\"NotificationAreaBase1\",\"overrides\":[],\"properties\":[{\"default\":\"bottom-right\",\"kind\":null,\"name\":\"position\"},{\"default\":0,\"kind\":null,\"name\":\"_clear\"}]},{\"extends\":null,\"module\":null,\"name\":\"NotificationArea1\",\"overrides\":[],\"properties\":[{\"default\":[],\"kind\":null,\"name\":\"notifications\"},{\"default\":\"bottom-right\",\"kind\":null,\"name\":\"position\"},{\"default\":0,\"kind\":null,\"name\":\"_clear\"},{\"default\":[{\"background\":\"#ffc107\",\"icon\":{\"className\":\"fas fa-exclamation-triangle\",\"color\":\"white\",\"tagName\":\"i\"},\"type\":\"warning\"},{\"background\":\"#007bff\",\"icon\":{\"className\":\"fas fa-info-circle\",\"color\":\"white\",\"tagName\":\"i\"},\"type\":\"info\"}],\"kind\":null,\"name\":\"types\"}]},{\"extends\":null,\"module\":null,\"name\":\"Notification\",\"overrides\":[],\"properties\":[{\"default\":null,\"kind\":null,\"name\":\"background\"},{\"default\":3000,\"kind\":null,\"name\":\"duration\"},{\"default\":null,\"kind\":null,\"name\":\"icon\"},{\"default\":\"\",\"kind\":null,\"name\":\"message\"},{\"default\":null,\"kind\":null,\"name\":\"notification_type\"},{\"default\":false,\"kind\":null,\"name\":\"_destroyed\"}]},{\"extends\":null,\"module\":null,\"name\":\"TemplateActions1\",\"overrides\":[],\"properties\":[{\"default\":0,\"kind\":null,\"name\":\"open_modal\"},{\"default\":0,\"kind\":null,\"name\":\"close_modal\"}]},{\"extends\":null,\"module\":null,\"name\":\"MaterialTemplateActions1\",\"overrides\":[],\"properties\":[{\"default\":0,\"kind\":null,\"name\":\"open_modal\"},{\"default\":0,\"kind\":null,\"name\":\"close_modal\"}]}],\"roots\":{\"references\":[{\"attributes\":{\"editor\":{\"id\":\"5361\"},\"field\":\"index\",\"formatter\":{\"id\":\"5359\"},\"title\":\"index\",\"width\":0},\"id\":\"5362\",\"type\":\"TableColumn\"},{\"attributes\":{\"columns\":[{\"id\":\"5362\"},{\"id\":\"5367\"},{\"id\":\"5372\"}],\"configuration\":{\"columns\":[{\"field\":\"index\",\"sorter\":\"number\"},{\"field\":\"Team\"},{\"field\":\"Medal\",\"sorter\":\"number\"}],\"dataTree\":false,\"selectable\":true},\"indexes\":[\"index\"],\"layout\":\"fit_data_table\",\"margin\":[5,10,5,10],\"max_page\":1,\"name\":\"\",\"page\":1,\"page_size\":10,\"pagination\":\"remote\",\"select_mode\":true,\"selectable_rows\":null,\"sizing_mode\":\"stretch_width\",\"source\":{\"id\":\"5357\"},\"styles\":{\"data\":{},\"id\":\"25f67856cfb349b1958248b15762b467\"},\"subscribed_events\":[\"cell-click\",\"table-edit\"],\"theme_url\":\"https://cdn.jsdelivr.net/npm/@holoviz/panel@0.14.4/dist/bundled/datatabulator/tabulator-tables@5.3.2/dist/css/\"},\"id\":\"5375\",\"type\":\"panel.models.tabulator.DataTabulator\"},{\"attributes\":{\"bar_color\":\"#bbc2f0\",\"end\":2016,\"margin\":[5,10,5,10],\"sizing_mode\":\"stretch_width\",\"start\":1896,\"step\":4,\"title\":\"Year\",\"value\":1896},\"id\":\"5352\",\"type\":\"Slider\"},{\"attributes\":{\"text_align\":\"left\"},\"id\":\"5359\",\"type\":\"NumberFormatter\"},{\"attributes\":{},\"id\":\"5361\",\"type\":\"CellEditor\"},{\"attributes\":{\"children\":[{\"id\":\"5349\"}],\"margin\":[0,0,0,0],\"name\":\"Row37387\",\"sizing_mode\":\"stretch_width\"},\"id\":\"5348\",\"type\":\"Row\"},{\"attributes\":{\"editor\":{\"id\":\"5371\"},\"field\":\"Medal\",\"formatter\":{\"id\":\"5370\"},\"title\":\"Medal\",\"width\":0},\"id\":\"5372\",\"type\":\"TableColumn\"},{\"attributes\":{},\"id\":\"5366\",\"type\":\"StringEditor\"},{\"attributes\":{\"children\":[{\"id\":\"5351\"},{\"id\":\"5355\"}],\"margin\":[0,0,0,0],\"name\":\"Row37385\",\"sizing_mode\":\"stretch_width\"},\"id\":\"5350\",\"type\":\"Row\"},{\"attributes\":{\"children\":[{\"id\":\"5375\"}],\"margin\":[0,0,0,0],\"name\":\"Row37383\",\"sizing_mode\":\"stretch_width\"},\"id\":\"5356\",\"type\":\"Row\"},{\"attributes\":{},\"id\":\"5377\",\"type\":\"UnionRenderers\"},{\"attributes\":{\"data\":{\"Medal\":[6,2,12],\"Team\":[\"Germany\",\"Great Britain\",\"United States\"],\"index\":[0,1,2]},\"selected\":{\"id\":\"5358\"},\"selection_policy\":{\"id\":\"5377\"}},\"id\":\"5357\",\"type\":\"ColumnDataSource\"},{\"attributes\":{\"children\":[{\"id\":\"5350\"},{\"id\":\"5356\"}],\"margin\":[0,0,0,0],\"name\":\"Column37386\",\"sizing_mode\":\"stretch_width\"},\"id\":\"5349\",\"type\":\"Column\"},{\"attributes\":{\"margin\":[5,5,5,5],\"name\":\"HSpacer37384\",\"sizing_mode\":\"stretch_width\"},\"id\":\"5355\",\"type\":\"Spacer\"},{\"attributes\":{\"active\":0,\"button_type\":\"primary\",\"labels\":[\"Medal\"],\"margin\":[5,10,5,10],\"sizing_mode\":\"stretch_width\"},\"id\":\"5354\",\"type\":\"RadioButtonGroup\"},{\"attributes\":{\"text_align\":\"right\"},\"id\":\"5370\",\"type\":\"NumberFormatter\"},{\"attributes\":{\"children\":[{\"id\":\"5352\"},{\"id\":\"5353\"},{\"id\":\"5354\"}],\"margin\":[0,0,0,0],\"name\":\"Column37378\",\"sizing_mode\":\"stretch_width\"},\"id\":\"5351\",\"type\":\"Column\"},{\"attributes\":{},\"id\":\"5371\",\"type\":\"IntEditor\"},{\"attributes\":{},\"id\":\"5365\",\"type\":\"StringFormatter\"},{\"attributes\":{\"active\":[0,1],\"button_type\":\"primary\",\"labels\":[\"M\",\"F\"],\"margin\":[5,10,5,10],\"sizing_mode\":\"stretch_width\"},\"id\":\"5353\",\"type\":\"CheckboxButtonGroup\"},{\"attributes\":{\"client_comm_id\":\"ac07f58d33cb4d58946ad3de4a529af9\",\"comm_id\":\"52a3b4e8fade46e59f1c8d35a2e322eb\",\"plot_id\":\"5348\"},\"id\":\"5383\",\"type\":\"panel.models.comm_manager.CommManager\"},{\"attributes\":{\"editor\":{\"id\":\"5366\"},\"field\":\"Team\",\"formatter\":{\"id\":\"5365\"},\"title\":\"Team\",\"width\":0},\"id\":\"5367\",\"type\":\"TableColumn\"},{\"attributes\":{\"indices\":[]},\"id\":\"5358\",\"type\":\"Selection\"}],\"root_ids\":[\"5348\",\"5383\"]},\"title\":\"Bokeh Application\",\"version\":\"2.4.3\"}};\n",
       "    var render_items = [{\"docid\":\"81cc889d-0ba3-4438-9b0d-db7c90cf4bc2\",\"root_ids\":[\"5348\"],\"roots\":{\"5348\":\"26fbf34d-e67e-4460-8f1c-72852c6a9e25\"}}];\n",
       "    root.Bokeh.embed.embed_items_notebook(docs_json, render_items);\n",
       "    for (const render_item of render_items) {\n",
       "      for (const root_id of render_item.root_ids) {\n",
       "\tconst id_el = document.getElementById(root_id)\n",
       "\tif (id_el.children.length && (id_el.children[0].className === 'bk-root')) {\n",
       "\t  const root_el = id_el.children[0]\n",
       "\t  root_el.id = root_el.id + '-rendered'\n",
       "\t}\n",
       "      }\n",
       "    }\n",
       "  }\n",
       "  if (root.Bokeh !== undefined && root.Bokeh.Panel !== undefined && ( root['Tabulator'] !== undefined) && ( root['Tabulator'] !== undefined) && ( root['Tabulator'] !== undefined) && ( root['Tabulator'] !== undefined) && ( root['Tabulator'] !== undefined) && ( root['Tabulator'] !== undefined) && ( root['Tabulator'] !== undefined) && ( root['Tabulator'] !== undefined) && ( root['Tabulator'] !== undefined) && ( root['Tabulator'] !== undefined) && ( root['Tabulator'] !== undefined) && ( root['Tabulator'] !== undefined) && ( root['Tabulator'] !== undefined) && ( root['Tabulator'] !== undefined)) {\n",
       "    embed_document(root);\n",
       "  } else {\n",
       "    var attempts = 0;\n",
       "    var timer = setInterval(function(root) {\n",
       "      if (root.Bokeh !== undefined && root.Bokeh.Panel !== undefined && (root['Tabulator'] !== undefined) && (root['Tabulator'] !== undefined) && (root['Tabulator'] !== undefined) && (root['Tabulator'] !== undefined) && (root['Tabulator'] !== undefined) && (root['Tabulator'] !== undefined) && (root['Tabulator'] !== undefined) && (root['Tabulator'] !== undefined) && (root['Tabulator'] !== undefined) && (root['Tabulator'] !== undefined) && (root['Tabulator'] !== undefined) && (root['Tabulator'] !== undefined) && (root['Tabulator'] !== undefined) && (root['Tabulator'] !== undefined)) {\n",
       "        clearInterval(timer);\n",
       "        embed_document(root);\n",
       "      } else if (document.readyState == \"complete\") {\n",
       "        attempts++;\n",
       "        if (attempts > 200) {\n",
       "          clearInterval(timer);\n",
       "          console.log(\"Bokeh: ERROR: Unable to run BokehJS code because BokehJS library is missing\");\n",
       "        }\n",
       "      }\n",
       "    }, 25, root)\n",
       "  }\n",
       "})(window);</script>"
      ],
      "text/plain": [
       "<hvplot.interactive.Interactive at 0x12f2f8490>"
      ]
     },
     "execution_count": 170,
     "metadata": {
      "application/vnd.holoviews_exec.v0+json": {
       "id": "5348"
      }
     },
     "output_type": "execute_result"
    }
   ],
   "source": [
    "itable = ipipeline.pipe(pn.widgets.Tabulator, pagination='remote', page_size=10)\n",
    "itable"
   ]
  },
  {
   "cell_type": "markdown",
   "metadata": {},
   "source": [
    "### Create widget set #2\n",
    "This widget set allows you to explore the average weight and mean for each Olympic team. And this is per year -- adjust the slider to see how this changes over time. You'll notice for the earlier years (e.g. 1896) there are only a limited number of teams displayed as the height & weight info wasn't known for many atheletes during these early times. Click between the `Height` and `Weight` buttons to view each independently."
   ]
  },
  {
   "cell_type": "code",
   "execution_count": 171,
   "metadata": {},
   "outputs": [
    {
     "data": {},
     "metadata": {},
     "output_type": "display_data"
    },
    {
     "data": {
      "application/vnd.holoviews_exec.v0+json": "",
      "text/html": [
       "<div id='5394'>\n",
       "  <div class=\"bk-root\" id=\"3bc3183a-cb07-4879-81ab-d4d7b04540d9\" data-root-id=\"5394\"></div>\n",
       "</div>\n",
       "<script type=\"application/javascript\">(function(root) {\n",
       "  function embed_document(root) {\n",
       "    var docs_json = {\"7350c783-fecb-479f-b9a0-f868840c05f9\":{\"defs\":[{\"extends\":null,\"module\":null,\"name\":\"ReactiveHTML1\",\"overrides\":[],\"properties\":[]},{\"extends\":null,\"module\":null,\"name\":\"FlexBox1\",\"overrides\":[],\"properties\":[{\"default\":\"flex-start\",\"kind\":null,\"name\":\"align_content\"},{\"default\":\"flex-start\",\"kind\":null,\"name\":\"align_items\"},{\"default\":\"row\",\"kind\":null,\"name\":\"flex_direction\"},{\"default\":\"wrap\",\"kind\":null,\"name\":\"flex_wrap\"},{\"default\":\"flex-start\",\"kind\":null,\"name\":\"justify_content\"}]},{\"extends\":null,\"module\":null,\"name\":\"GridStack1\",\"overrides\":[],\"properties\":[{\"default\":\"warn\",\"kind\":null,\"name\":\"mode\"},{\"default\":null,\"kind\":null,\"name\":\"ncols\"},{\"default\":null,\"kind\":null,\"name\":\"nrows\"},{\"default\":true,\"kind\":null,\"name\":\"allow_resize\"},{\"default\":true,\"kind\":null,\"name\":\"allow_drag\"},{\"default\":[],\"kind\":null,\"name\":\"state\"}]},{\"extends\":null,\"module\":null,\"name\":\"click1\",\"overrides\":[],\"properties\":[{\"default\":\"\",\"kind\":null,\"name\":\"terminal_output\"},{\"default\":\"\",\"kind\":null,\"name\":\"debug_name\"},{\"default\":0,\"kind\":null,\"name\":\"clears\"}]},{\"extends\":null,\"module\":null,\"name\":\"NotificationAreaBase1\",\"overrides\":[],\"properties\":[{\"default\":\"bottom-right\",\"kind\":null,\"name\":\"position\"},{\"default\":0,\"kind\":null,\"name\":\"_clear\"}]},{\"extends\":null,\"module\":null,\"name\":\"NotificationArea1\",\"overrides\":[],\"properties\":[{\"default\":[],\"kind\":null,\"name\":\"notifications\"},{\"default\":\"bottom-right\",\"kind\":null,\"name\":\"position\"},{\"default\":0,\"kind\":null,\"name\":\"_clear\"},{\"default\":[{\"background\":\"#ffc107\",\"icon\":{\"className\":\"fas fa-exclamation-triangle\",\"color\":\"white\",\"tagName\":\"i\"},\"type\":\"warning\"},{\"background\":\"#007bff\",\"icon\":{\"className\":\"fas fa-info-circle\",\"color\":\"white\",\"tagName\":\"i\"},\"type\":\"info\"}],\"kind\":null,\"name\":\"types\"}]},{\"extends\":null,\"module\":null,\"name\":\"Notification\",\"overrides\":[],\"properties\":[{\"default\":null,\"kind\":null,\"name\":\"background\"},{\"default\":3000,\"kind\":null,\"name\":\"duration\"},{\"default\":null,\"kind\":null,\"name\":\"icon\"},{\"default\":\"\",\"kind\":null,\"name\":\"message\"},{\"default\":null,\"kind\":null,\"name\":\"notification_type\"},{\"default\":false,\"kind\":null,\"name\":\"_destroyed\"}]},{\"extends\":null,\"module\":null,\"name\":\"TemplateActions1\",\"overrides\":[],\"properties\":[{\"default\":0,\"kind\":null,\"name\":\"open_modal\"},{\"default\":0,\"kind\":null,\"name\":\"close_modal\"}]},{\"extends\":null,\"module\":null,\"name\":\"MaterialTemplateActions1\",\"overrides\":[],\"properties\":[{\"default\":0,\"kind\":null,\"name\":\"open_modal\"},{\"default\":0,\"kind\":null,\"name\":\"close_modal\"}]}],\"roots\":{\"references\":[{\"attributes\":{\"children\":[{\"id\":\"5403\"}],\"margin\":[0,0,0,0],\"name\":\"Row38056\",\"sizing_mode\":\"stretch_width\"},\"id\":\"5402\",\"type\":\"Row\"},{\"attributes\":{\"bar_color\":\"#f0d17d\",\"end\":2016,\"margin\":[5,10,5,10],\"sizing_mode\":\"stretch_width\",\"start\":1896,\"step\":4,\"title\":\"Year\",\"value\":1896},\"id\":\"5398\",\"type\":\"Slider\"},{\"attributes\":{\"active\":[0,1],\"button_type\":\"success\",\"labels\":[\"M\",\"F\"],\"margin\":[5,10,5,10],\"sizing_mode\":\"stretch_width\"},\"id\":\"5399\",\"type\":\"CheckboxButtonGroup\"},{\"attributes\":{\"children\":[{\"id\":\"5395\"}],\"margin\":[0,0,0,0],\"name\":\"Row38062\",\"sizing_mode\":\"stretch_width\"},\"id\":\"5394\",\"type\":\"Row\"},{\"attributes\":{\"children\":[{\"id\":\"5398\"},{\"id\":\"5399\"},{\"id\":\"5400\"}],\"margin\":[0,0,0,0],\"name\":\"Column38051\",\"sizing_mode\":\"stretch_width\"},\"id\":\"5397\",\"type\":\"Column\"},{\"attributes\":{\"margin\":[5,5,5,5],\"name\":\"DataFrame38057\",\"sizing_mode\":\"stretch_width\",\"text\":\"&lt;table border=&quot;0&quot; class=&quot;dataframe panel-df&quot;&gt;\\n  &lt;thead&gt;\\n    &lt;tr style=&quot;text-align: right;&quot;&gt;\\n      &lt;th&gt;&lt;/th&gt;\\n      &lt;th&gt;Height&lt;/th&gt;\\n    &lt;/tr&gt;\\n    &lt;tr&gt;\\n      &lt;th&gt;Team&lt;/th&gt;\\n      &lt;th&gt;&lt;/th&gt;\\n    &lt;/tr&gt;\\n  &lt;/thead&gt;\\n  &lt;tbody&gt;\\n    &lt;tr&gt;\\n      &lt;th&gt;Germany&lt;/th&gt;\\n      &lt;td&gt;161.666667&lt;/td&gt;\\n    &lt;/tr&gt;\\n    &lt;tr&gt;\\n      &lt;th&gt;Great Britain&lt;/th&gt;\\n      &lt;td&gt;188.000000&lt;/td&gt;\\n    &lt;/tr&gt;\\n    &lt;tr&gt;\\n      &lt;th&gt;United States&lt;/th&gt;\\n      &lt;td&gt;180.166667&lt;/td&gt;\\n    &lt;/tr&gt;\\n  &lt;/tbody&gt;\\n&lt;/table&gt;\"},\"id\":\"5403\",\"type\":\"panel.models.markup.HTML\"},{\"attributes\":{\"margin\":[5,5,5,5],\"name\":\"HSpacer38059\",\"sizing_mode\":\"stretch_width\"},\"id\":\"5401\",\"type\":\"Spacer\"},{\"attributes\":{\"client_comm_id\":\"367671bd12c54701a905ca455ec03213\",\"comm_id\":\"d6344da5717148ca984002babafaeef8\",\"plot_id\":\"5394\"},\"id\":\"5404\",\"type\":\"panel.models.comm_manager.CommManager\"},{\"attributes\":{\"children\":[{\"id\":\"5396\"},{\"id\":\"5402\"}],\"margin\":[0,0,0,0],\"name\":\"Column38061\",\"sizing_mode\":\"stretch_width\"},\"id\":\"5395\",\"type\":\"Column\"},{\"attributes\":{\"active\":0,\"button_type\":\"success\",\"labels\":[\"Height\",\"Weight\"],\"margin\":[5,10,5,10],\"sizing_mode\":\"stretch_width\"},\"id\":\"5400\",\"type\":\"RadioButtonGroup\"},{\"attributes\":{\"children\":[{\"id\":\"5397\"},{\"id\":\"5401\"}],\"margin\":[0,0,0,0],\"name\":\"Row38060\",\"sizing_mode\":\"stretch_width\"},\"id\":\"5396\",\"type\":\"Row\"}],\"root_ids\":[\"5394\",\"5404\"]},\"title\":\"Bokeh Application\",\"version\":\"2.4.3\"}};\n",
       "    var render_items = [{\"docid\":\"7350c783-fecb-479f-b9a0-f868840c05f9\",\"root_ids\":[\"5394\"],\"roots\":{\"5394\":\"3bc3183a-cb07-4879-81ab-d4d7b04540d9\"}}];\n",
       "    root.Bokeh.embed.embed_items_notebook(docs_json, render_items);\n",
       "    for (const render_item of render_items) {\n",
       "      for (const root_id of render_item.root_ids) {\n",
       "\tconst id_el = document.getElementById(root_id)\n",
       "\tif (id_el.children.length && (id_el.children[0].className === 'bk-root')) {\n",
       "\t  const root_el = id_el.children[0]\n",
       "\t  root_el.id = root_el.id + '-rendered'\n",
       "\t}\n",
       "      }\n",
       "    }\n",
       "  }\n",
       "  if (root.Bokeh !== undefined && root.Bokeh.Panel !== undefined && ( root['Tabulator'] !== undefined) && ( root['Tabulator'] !== undefined) && ( root['Tabulator'] !== undefined) && ( root['Tabulator'] !== undefined) && ( root['Tabulator'] !== undefined) && ( root['Tabulator'] !== undefined) && ( root['Tabulator'] !== undefined) && ( root['Tabulator'] !== undefined) && ( root['Tabulator'] !== undefined) && ( root['Tabulator'] !== undefined) && ( root['Tabulator'] !== undefined) && ( root['Tabulator'] !== undefined) && ( root['Tabulator'] !== undefined) && ( root['Tabulator'] !== undefined)) {\n",
       "    embed_document(root);\n",
       "  } else {\n",
       "    var attempts = 0;\n",
       "    var timer = setInterval(function(root) {\n",
       "      if (root.Bokeh !== undefined && root.Bokeh.Panel !== undefined && (root['Tabulator'] !== undefined) && (root['Tabulator'] !== undefined) && (root['Tabulator'] !== undefined) && (root['Tabulator'] !== undefined) && (root['Tabulator'] !== undefined) && (root['Tabulator'] !== undefined) && (root['Tabulator'] !== undefined) && (root['Tabulator'] !== undefined) && (root['Tabulator'] !== undefined) && (root['Tabulator'] !== undefined) && (root['Tabulator'] !== undefined) && (root['Tabulator'] !== undefined) && (root['Tabulator'] !== undefined) && (root['Tabulator'] !== undefined)) {\n",
       "        clearInterval(timer);\n",
       "        embed_document(root);\n",
       "      } else if (document.readyState == \"complete\") {\n",
       "        attempts++;\n",
       "        if (attempts > 200) {\n",
       "          clearInterval(timer);\n",
       "          console.log(\"Bokeh: ERROR: Unable to run BokehJS code because BokehJS library is missing\");\n",
       "        }\n",
       "      }\n",
       "    }, 25, root)\n",
       "  }\n",
       "})(window);</script>"
      ],
      "text/plain": [
       "<hvplot.interactive.Interactive at 0x12c98a1d0>"
      ]
     },
     "execution_count": 171,
     "metadata": {
      "application/vnd.holoviews_exec.v0+json": {
       "id": "5394"
      }
     },
     "output_type": "execute_result"
    }
   ],
   "source": [
    "idf2 = df.interactive()\n",
    "\n",
    "year = pn.widgets.IntSlider(name='Year', start=1896, end=2016, step=4, bar_color='#f0d17d')\n",
    "sex_widget = pn.widgets.ToggleGroup(\n",
    "    name='Sex',\n",
    "    options=['M', 'F'], \n",
    "    value=['M', 'F'],\n",
    "    button_type='success')\n",
    "yaxis = pn.widgets.RadioButtonGroup(\n",
    "    name='Y axis', \n",
    "    options=['Height', 'Weight'],\n",
    "    button_type='success'\n",
    ")\n",
    "\n",
    "ipipeline2 = (\n",
    "    idf2[\n",
    "        (idf2.Year == year) & \n",
    "        (idf2.Sex.isin(sex_widget))\n",
    "    ]\n",
    "    .groupby(['Team'])[yaxis].mean()\n",
    "    .to_frame()\n",
    "    .sort_values(by='Team')\n",
    ")\n",
    "ipipeline2.head(10) # Change this number to determine how many teams you want to display at a time."
   ]
  },
  {
   "cell_type": "code",
   "execution_count": 172,
   "metadata": {},
   "outputs": [
    {
     "data": {},
     "metadata": {},
     "output_type": "display_data"
    },
    {
     "data": {
      "application/vnd.holoviews_exec.v0+json": "",
      "text/html": [
       "<div id='5405'>\n",
       "  <div class=\"bk-root\" id=\"a6bd1cba-bba3-4e3e-93fb-1a6de85d0ba8\" data-root-id=\"5405\"></div>\n",
       "</div>\n",
       "<script type=\"application/javascript\">(function(root) {\n",
       "  function embed_document(root) {\n",
       "    var docs_json = {\"007f853e-4f1d-40ba-aec8-cf7a5449d71e\":{\"defs\":[{\"extends\":null,\"module\":null,\"name\":\"ReactiveHTML1\",\"overrides\":[],\"properties\":[]},{\"extends\":null,\"module\":null,\"name\":\"FlexBox1\",\"overrides\":[],\"properties\":[{\"default\":\"flex-start\",\"kind\":null,\"name\":\"align_content\"},{\"default\":\"flex-start\",\"kind\":null,\"name\":\"align_items\"},{\"default\":\"row\",\"kind\":null,\"name\":\"flex_direction\"},{\"default\":\"wrap\",\"kind\":null,\"name\":\"flex_wrap\"},{\"default\":\"flex-start\",\"kind\":null,\"name\":\"justify_content\"}]},{\"extends\":null,\"module\":null,\"name\":\"GridStack1\",\"overrides\":[],\"properties\":[{\"default\":\"warn\",\"kind\":null,\"name\":\"mode\"},{\"default\":null,\"kind\":null,\"name\":\"ncols\"},{\"default\":null,\"kind\":null,\"name\":\"nrows\"},{\"default\":true,\"kind\":null,\"name\":\"allow_resize\"},{\"default\":true,\"kind\":null,\"name\":\"allow_drag\"},{\"default\":[],\"kind\":null,\"name\":\"state\"}]},{\"extends\":null,\"module\":null,\"name\":\"click1\",\"overrides\":[],\"properties\":[{\"default\":\"\",\"kind\":null,\"name\":\"terminal_output\"},{\"default\":\"\",\"kind\":null,\"name\":\"debug_name\"},{\"default\":0,\"kind\":null,\"name\":\"clears\"}]},{\"extends\":null,\"module\":null,\"name\":\"NotificationAreaBase1\",\"overrides\":[],\"properties\":[{\"default\":\"bottom-right\",\"kind\":null,\"name\":\"position\"},{\"default\":0,\"kind\":null,\"name\":\"_clear\"}]},{\"extends\":null,\"module\":null,\"name\":\"NotificationArea1\",\"overrides\":[],\"properties\":[{\"default\":[],\"kind\":null,\"name\":\"notifications\"},{\"default\":\"bottom-right\",\"kind\":null,\"name\":\"position\"},{\"default\":0,\"kind\":null,\"name\":\"_clear\"},{\"default\":[{\"background\":\"#ffc107\",\"icon\":{\"className\":\"fas fa-exclamation-triangle\",\"color\":\"white\",\"tagName\":\"i\"},\"type\":\"warning\"},{\"background\":\"#007bff\",\"icon\":{\"className\":\"fas fa-info-circle\",\"color\":\"white\",\"tagName\":\"i\"},\"type\":\"info\"}],\"kind\":null,\"name\":\"types\"}]},{\"extends\":null,\"module\":null,\"name\":\"Notification\",\"overrides\":[],\"properties\":[{\"default\":null,\"kind\":null,\"name\":\"background\"},{\"default\":3000,\"kind\":null,\"name\":\"duration\"},{\"default\":null,\"kind\":null,\"name\":\"icon\"},{\"default\":\"\",\"kind\":null,\"name\":\"message\"},{\"default\":null,\"kind\":null,\"name\":\"notification_type\"},{\"default\":false,\"kind\":null,\"name\":\"_destroyed\"}]},{\"extends\":null,\"module\":null,\"name\":\"TemplateActions1\",\"overrides\":[],\"properties\":[{\"default\":0,\"kind\":null,\"name\":\"open_modal\"},{\"default\":0,\"kind\":null,\"name\":\"close_modal\"}]},{\"extends\":null,\"module\":null,\"name\":\"MaterialTemplateActions1\",\"overrides\":[],\"properties\":[{\"default\":0,\"kind\":null,\"name\":\"open_modal\"},{\"default\":0,\"kind\":null,\"name\":\"close_modal\"}]}],\"roots\":{\"references\":[{\"attributes\":{\"bar_color\":\"#f0d17d\",\"end\":2016,\"margin\":[5,10,5,10],\"sizing_mode\":\"stretch_width\",\"start\":1896,\"step\":4,\"title\":\"Year\",\"value\":1896},\"id\":\"5409\",\"type\":\"Slider\"},{\"attributes\":{\"margin\":[5,5,5,5],\"name\":\"HSpacer38138\",\"sizing_mode\":\"stretch_width\"},\"id\":\"5412\",\"type\":\"Spacer\"},{\"attributes\":{},\"id\":\"5423\",\"type\":\"NumberEditor\"},{\"attributes\":{\"children\":[{\"id\":\"5427\"}],\"margin\":[0,0,0,0],\"name\":\"Row38137\",\"sizing_mode\":\"stretch_width\"},\"id\":\"5413\",\"type\":\"Row\"},{\"attributes\":{\"active\":0,\"button_type\":\"success\",\"labels\":[\"Height\",\"Weight\"],\"margin\":[5,10,5,10],\"sizing_mode\":\"stretch_width\"},\"id\":\"5411\",\"type\":\"RadioButtonGroup\"},{\"attributes\":{\"children\":[{\"id\":\"5408\"},{\"id\":\"5412\"}],\"margin\":[0,0,0,0],\"name\":\"Row38139\",\"sizing_mode\":\"stretch_width\"},\"id\":\"5407\",\"type\":\"Row\"},{\"attributes\":{},\"id\":\"5429\",\"type\":\"UnionRenderers\"},{\"attributes\":{\"children\":[{\"id\":\"5407\"},{\"id\":\"5413\"}],\"margin\":[0,0,0,0],\"name\":\"Column38140\",\"sizing_mode\":\"stretch_width\"},\"id\":\"5406\",\"type\":\"Column\"},{\"attributes\":{\"columns\":[{\"id\":\"5419\"},{\"id\":\"5424\"}],\"configuration\":{\"columns\":[{\"field\":\"Team\"},{\"field\":\"Height\",\"sorter\":\"number\"}],\"dataTree\":false,\"selectable\":true},\"indexes\":[\"Team\"],\"layout\":\"fit_data_table\",\"margin\":[5,10,5,10],\"max_page\":1,\"name\":\"\",\"page\":1,\"page_size\":10,\"pagination\":\"remote\",\"select_mode\":true,\"selectable_rows\":null,\"sizing_mode\":\"stretch_width\",\"source\":{\"id\":\"5414\"},\"styles\":{\"data\":{},\"id\":\"62547dbcea3241f3aac6feffed7dad30\"},\"subscribed_events\":[\"cell-click\",\"table-edit\"],\"theme_url\":\"https://cdn.jsdelivr.net/npm/@holoviz/panel@0.14.4/dist/bundled/datatabulator/tabulator-tables@5.3.2/dist/css/\"},\"id\":\"5427\",\"type\":\"panel.models.tabulator.DataTabulator\"},{\"attributes\":{\"format\":\"0,0.0[00000]\",\"text_align\":\"right\"},\"id\":\"5422\",\"type\":\"NumberFormatter\"},{\"attributes\":{\"editor\":{\"id\":\"5418\"},\"field\":\"Team\",\"formatter\":{\"id\":\"5416\"},\"title\":\"Team\",\"width\":0},\"id\":\"5419\",\"type\":\"TableColumn\"},{\"attributes\":{\"indices\":[]},\"id\":\"5415\",\"type\":\"Selection\"},{\"attributes\":{\"children\":[{\"id\":\"5409\"},{\"id\":\"5410\"},{\"id\":\"5411\"}],\"margin\":[0,0,0,0],\"name\":\"Column38132\",\"sizing_mode\":\"stretch_width\"},\"id\":\"5408\",\"type\":\"Column\"},{\"attributes\":{\"active\":[0,1],\"button_type\":\"success\",\"labels\":[\"M\",\"F\"],\"margin\":[5,10,5,10],\"sizing_mode\":\"stretch_width\"},\"id\":\"5410\",\"type\":\"CheckboxButtonGroup\"},{\"attributes\":{\"editor\":{\"id\":\"5423\"},\"field\":\"Height\",\"formatter\":{\"id\":\"5422\"},\"title\":\"Height\",\"width\":0},\"id\":\"5424\",\"type\":\"TableColumn\"},{\"attributes\":{},\"id\":\"5416\",\"type\":\"StringFormatter\"},{\"attributes\":{\"children\":[{\"id\":\"5406\"}],\"margin\":[0,0,0,0],\"name\":\"Row38141\",\"sizing_mode\":\"stretch_width\"},\"id\":\"5405\",\"type\":\"Row\"},{\"attributes\":{\"data\":{\"Height\":{\"__ndarray__\":\"VVVVVVU1ZEAAAAAAAIBnQFVVVVVVhWZA\",\"dtype\":\"float64\",\"order\":\"little\",\"shape\":[3]},\"Team\":[\"Germany\",\"Great Britain\",\"United States\"]},\"selected\":{\"id\":\"5415\"},\"selection_policy\":{\"id\":\"5429\"}},\"id\":\"5414\",\"type\":\"ColumnDataSource\"},{\"attributes\":{\"client_comm_id\":\"5ca0d051df524d8fbd882058c6597f54\",\"comm_id\":\"ea986e9fdb784706a4589b130eb94e88\",\"plot_id\":\"5405\"},\"id\":\"5435\",\"type\":\"panel.models.comm_manager.CommManager\"},{\"attributes\":{},\"id\":\"5418\",\"type\":\"CellEditor\"}],\"root_ids\":[\"5405\",\"5435\"]},\"title\":\"Bokeh Application\",\"version\":\"2.4.3\"}};\n",
       "    var render_items = [{\"docid\":\"007f853e-4f1d-40ba-aec8-cf7a5449d71e\",\"root_ids\":[\"5405\"],\"roots\":{\"5405\":\"a6bd1cba-bba3-4e3e-93fb-1a6de85d0ba8\"}}];\n",
       "    root.Bokeh.embed.embed_items_notebook(docs_json, render_items);\n",
       "    for (const render_item of render_items) {\n",
       "      for (const root_id of render_item.root_ids) {\n",
       "\tconst id_el = document.getElementById(root_id)\n",
       "\tif (id_el.children.length && (id_el.children[0].className === 'bk-root')) {\n",
       "\t  const root_el = id_el.children[0]\n",
       "\t  root_el.id = root_el.id + '-rendered'\n",
       "\t}\n",
       "      }\n",
       "    }\n",
       "  }\n",
       "  if (root.Bokeh !== undefined && root.Bokeh.Panel !== undefined && ( root['Tabulator'] !== undefined) && ( root['Tabulator'] !== undefined) && ( root['Tabulator'] !== undefined) && ( root['Tabulator'] !== undefined) && ( root['Tabulator'] !== undefined) && ( root['Tabulator'] !== undefined) && ( root['Tabulator'] !== undefined) && ( root['Tabulator'] !== undefined) && ( root['Tabulator'] !== undefined) && ( root['Tabulator'] !== undefined) && ( root['Tabulator'] !== undefined) && ( root['Tabulator'] !== undefined) && ( root['Tabulator'] !== undefined) && ( root['Tabulator'] !== undefined)) {\n",
       "    embed_document(root);\n",
       "  } else {\n",
       "    var attempts = 0;\n",
       "    var timer = setInterval(function(root) {\n",
       "      if (root.Bokeh !== undefined && root.Bokeh.Panel !== undefined && (root['Tabulator'] !== undefined) && (root['Tabulator'] !== undefined) && (root['Tabulator'] !== undefined) && (root['Tabulator'] !== undefined) && (root['Tabulator'] !== undefined) && (root['Tabulator'] !== undefined) && (root['Tabulator'] !== undefined) && (root['Tabulator'] !== undefined) && (root['Tabulator'] !== undefined) && (root['Tabulator'] !== undefined) && (root['Tabulator'] !== undefined) && (root['Tabulator'] !== undefined) && (root['Tabulator'] !== undefined) && (root['Tabulator'] !== undefined)) {\n",
       "        clearInterval(timer);\n",
       "        embed_document(root);\n",
       "      } else if (document.readyState == \"complete\") {\n",
       "        attempts++;\n",
       "        if (attempts > 200) {\n",
       "          clearInterval(timer);\n",
       "          console.log(\"Bokeh: ERROR: Unable to run BokehJS code because BokehJS library is missing\");\n",
       "        }\n",
       "      }\n",
       "    }, 25, root)\n",
       "  }\n",
       "})(window);</script>"
      ],
      "text/plain": [
       "<hvplot.interactive.Interactive at 0x129610dd0>"
      ]
     },
     "execution_count": 172,
     "metadata": {
      "application/vnd.holoviews_exec.v0+json": {
       "id": "5405"
      }
     },
     "output_type": "execute_result"
    }
   ],
   "source": [
    "itable = ipipeline2.pipe(pn.widgets.Tabulator, pagination='remote', page_size=10)\n",
    "itable"
   ]
  },
  {
   "cell_type": "markdown",
   "metadata": {},
   "source": [
    "## Section 2: Write-up"
   ]
  },
  {
   "cell_type": "markdown",
   "metadata": {},
   "source": [
    "### GitHub\n",
    "My dataset is not a 'larger' one as it is within the limits specified by GitHub.\n",
    "\n",
    "### Contextual Datasets\n",
    "I found a dataset specifically on the Tokyo 2021 Olympics. This dataset is more indepth than the one explored in this Notebook, as this dataset is more generalized, as the data is of athletes competing in every single Olympic Games since 1896. This new contextual dataset has more metrics, such as details of the athletes, coach information, their discpline and much more. It can be found at: https://www.kaggle.com/datasets/arjunprasadsarkhel/2021-olympics-in-tokyo. It'd be useful as it gives a different perspective of Olympic Games data.\n",
    "\n",
    "### Dashboard Explanation\n",
    "**Dashboard #1** allows the user to see each olympic team's medal count over each games (each year). If you move the slider at the top of the dashboard across, you can see how the medal counts change over time -- so you can see for a specific Olympic Games, how many medals each team got. \n",
    "\n",
    "There's also functionality involving gender. The medal count per gender can be seen by clicking either the 'M' button, 'F' button, or both at the same time! Depending on which one is pressed, it will display the medal count each gender contributes. For example, if you move the slider to the year 2000, we can see Australia got a total of 181 medals. Selecting the M button gives 94, whilst the F button gives 87 -- both genders seem to contribute almost evenly for Australia's medal count!\n",
    "\n",
    "Piping the data to the `itable` allows us to sort each column, in ascending or descending order. This is particulary useful for seeing, for a given year, the top 10 countries that got the most medals, or even the countries that got the least amount of medals!\n",
    "\n",
    "**Dashboard #2** allows you to see the average weight and height for athletes for each team over time. The functionality is similar to Dashboard #1, so the functionality exists over all the games (1896 onwards), and you can filter it per gender. In this dashboard the `index` column was dropped just to show that it is possible to omit this column if desired.\n",
    "\n",
    "***Note***: I was originally part of Group 10. One of my teammates dropped out of the group last minute; as a result I've completed Part 2 by myself."
   ]
  }
 ],
 "metadata": {
  "kernelspec": {
   "display_name": "Python [conda env:fp2] *",
   "language": "python",
   "name": "conda-env-fp2-py"
  },
  "language_info": {
   "codemirror_mode": {
    "name": "ipython",
    "version": 3
   },
   "file_extension": ".py",
   "mimetype": "text/x-python",
   "name": "python",
   "nbconvert_exporter": "python",
   "pygments_lexer": "ipython3",
   "version": "3.7.16"
  }
 },
 "nbformat": 4,
 "nbformat_minor": 2
}
